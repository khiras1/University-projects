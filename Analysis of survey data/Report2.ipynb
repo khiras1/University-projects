{
 "cells": [
  {
   "cell_type": "markdown",
   "metadata": {},
   "source": [
    "# Importy"
   ]
  },
  {
   "cell_type": "code",
   "execution_count": 1,
   "metadata": {},
   "outputs": [
    {
     "name": "stderr",
     "output_type": "stream",
     "text": [
      "c:\\Users\\jakub\\AppData\\Local\\Programs\\Python\\Python311\\Lib\\site-packages\\rpy2\\robjects\\packages.py:367: UserWarning: The symbol 'quartz' is not in this R namespace/package.\n",
      "  warnings.warn(\n"
     ]
    }
   ],
   "source": [
    "import numpy as np\n",
    "import seaborn as sns\n",
    "import math\n",
    "import matplotlib.pyplot as plt\n",
    "import seaborn as sns\n",
    "import scipy.stats\n",
    "import pandas as pd\n",
    "from scipy.interpolate import CubicSpline\n",
    "from statsmodels.graphics.mosaicplot import mosaic\n",
    "import plot_likert\n",
    "from statsmodels.stats.proportion import proportion_confint\n",
    "from scipy.stats import binomtest\n",
    "from statsmodels.stats.proportion import proportions_ztest\n",
    "\n",
    "import os\n",
    "os.environ[\"R_HOME\"] = r\"C:\\\\Program Files\\\\R\\\\R-4.2.3\" \n",
    "os.environ[\"PATH\"] = r\"C:\\\\Program Files\\\\R\\\\R-4.2.3\\\\bin\\\\x64\" + \";\" + os.environ[\"R_HOME\"]\n",
    "import rpy2.robjects as ro\n",
    "from rpy2.robjects import pandas2ri\n",
    "from rpy2.robjects.packages import importr\n",
    "pandas2ri.activate()\n",
    "stats_r = importr('stats')\n",
    "graphics = importr('graphics')\n",
    "\n",
    "sns.set()\n",
    "\n",
    "plt.rc('figure', figsize=(10, 6))\n",
    "plt.rc('font', size=12)\n",
    "\n",
    "%load_ext rpy2.ipython"
   ]
  },
  {
   "cell_type": "markdown",
   "metadata": {},
   "source": [
    "# Raport 2"
   ]
  },
  {
   "cell_type": "markdown",
   "metadata": {},
   "source": [
    "**Nazwa kursu:** Analiza danych ankietowych\n",
    "\n",
    "**Prowadzący:** dr Rafał Połoczański\n",
    "\n",
    "**Autorzy:** Antczak Jakub (268745), Curkowicz Kinga (268774)\n",
    "\n",
    "**Rok akademicki:** 2023/2024"
   ]
  },
  {
   "cell_type": "markdown",
   "metadata": {},
   "source": [
    "## Spis treści"
   ]
  },
  {
   "cell_type": "markdown",
   "metadata": {},
   "source": [
    "1. [Część I](#Część-I)\n",
    "    - [Zadanie 1](#Zadanie-1)\n",
    "    - [Zadanie 2](#Zadanie-2)\n",
    "    - [Zadanie 3](#Zadanie-3)\n",
    "    - [Zadanie 4](#Zadanie-4)\n",
    "    - [Zadanie 5](#Zadanie-5)\n",
    "    - [Zadanie 6](#Zadanie-6)\n",
    "    - [Zadanie 7](#Zadanie-7)\n",
    "    - [Zadanie 8](#Zadanie-8)\n",
    "2. [Część II](#Część-II)\n",
    "    - [Zadanie 4](#Zadanie-4)\n",
    "    - [Zadanie 5](#Zadanie-5)\n",
    "    - [Zadanie 6](#Zadanie-6)\n",
    "3. [Część III](#Część-III)\n",
    "    - [Zadanie 7](#Zadanie-7)\n",
    "    - [Zadanie 8](#Zadanie-8)\n",
    "    - [Zadanie 9](#Zadanie-9)\n",
    "    - [Zadanie 10](#Zadanie-10)\n",
    "4. [Część IV](#Część-IV-V)\n",
    "    - [Zadanie 11](#Zadanie-11)\n",
    "    - [Zadanie 12](#Zadanie-12)\n",
    "    - [Zadanie 13](#Zadanie-13)\n",
    "    - [Zadanie 14](#Zadanie-14)\n",
    "5. [Zadania dodatkowe](#Zadania-dodatkowe)"
   ]
  },
  {
   "cell_type": "markdown",
   "metadata": {},
   "source": [
    "# Część 1"
   ]
  },
  {
   "cell_type": "markdown",
   "metadata": {},
   "source": [
    "## Zadanie 1"
   ]
  },
  {
   "cell_type": "markdown",
   "metadata": {},
   "source": [
    "W tym zadaniu mieliśmy wyznaczyć przedział ufności dla wektora prawdopodobieństw opisującego stopień zadowolenia z podejścia firmy. Przyjęliśmy poziom ufności $0.95$.\n",
    "\n",
    "Skorzystaliśmy z funkcji wbudowanej $\\texttt{proportion\\_confint}$, w której użyliśmy $\\texttt{method='normal'}$ (przybliżenie rozkładem normalnym). Górna granica przedziału ufności to \n",
    "\n",
    "$$upper\\_bound=p+z\\sqrt{\\frac{p(1-p)}{n}}$$\n",
    "a dolna granica to \n",
    "$$lower\\_bound=p-z\\sqrt{\\frac{p(1-p)}{n}}$$\n",
    "\n",
    "gdzie $p$ to obserwowana proporcja, $n$ to liczność próby, a $z$ to wartość krytyczna rozkładu normalnego (np. dla $0.95$ wynosi $1.96$)."
   ]
  },
  {
   "cell_type": "code",
   "execution_count": 2,
   "metadata": {},
   "outputs": [
    {
     "data": {
      "text/html": [
       "<div>\n",
       "<style scoped>\n",
       "    .dataframe tbody tr th:only-of-type {\n",
       "        vertical-align: middle;\n",
       "    }\n",
       "\n",
       "    .dataframe tbody tr th {\n",
       "        vertical-align: top;\n",
       "    }\n",
       "\n",
       "    .dataframe thead th {\n",
       "        text-align: right;\n",
       "    }\n",
       "</style>\n",
       "<table border=\"1\" class=\"dataframe\">\n",
       "  <thead>\n",
       "    <tr style=\"text-align: right;\">\n",
       "      <th></th>\n",
       "      <th>DZIAŁ</th>\n",
       "      <th>STAŻ</th>\n",
       "      <th>CZY_KIER</th>\n",
       "      <th>PYT_1</th>\n",
       "      <th>PYT_2</th>\n",
       "      <th>PYT_3</th>\n",
       "      <th>PŁEĆ</th>\n",
       "      <th>WIEK</th>\n",
       "    </tr>\n",
       "  </thead>\n",
       "  <tbody>\n",
       "    <tr>\n",
       "      <th>0</th>\n",
       "      <td>IT</td>\n",
       "      <td>2</td>\n",
       "      <td>Nie</td>\n",
       "      <td>1</td>\n",
       "      <td>-2</td>\n",
       "      <td>1</td>\n",
       "      <td>M</td>\n",
       "      <td>64</td>\n",
       "    </tr>\n",
       "    <tr>\n",
       "      <th>1</th>\n",
       "      <td>IT</td>\n",
       "      <td>2</td>\n",
       "      <td>Nie</td>\n",
       "      <td>0</td>\n",
       "      <td>-2</td>\n",
       "      <td>-2</td>\n",
       "      <td>M</td>\n",
       "      <td>67</td>\n",
       "    </tr>\n",
       "    <tr>\n",
       "      <th>2</th>\n",
       "      <td>IT</td>\n",
       "      <td>2</td>\n",
       "      <td>Nie</td>\n",
       "      <td>1</td>\n",
       "      <td>2</td>\n",
       "      <td>2</td>\n",
       "      <td>M</td>\n",
       "      <td>65</td>\n",
       "    </tr>\n",
       "    <tr>\n",
       "      <th>3</th>\n",
       "      <td>IT</td>\n",
       "      <td>2</td>\n",
       "      <td>Nie</td>\n",
       "      <td>-1</td>\n",
       "      <td>-2</td>\n",
       "      <td>-2</td>\n",
       "      <td>K</td>\n",
       "      <td>68</td>\n",
       "    </tr>\n",
       "    <tr>\n",
       "      <th>4</th>\n",
       "      <td>IT</td>\n",
       "      <td>3</td>\n",
       "      <td>Tak</td>\n",
       "      <td>1</td>\n",
       "      <td>2</td>\n",
       "      <td>-1</td>\n",
       "      <td>K</td>\n",
       "      <td>65</td>\n",
       "    </tr>\n",
       "  </tbody>\n",
       "</table>\n",
       "</div>"
      ],
      "text/plain": [
       "  DZIAŁ  STAŻ CZY_KIER  PYT_1  PYT_2  PYT_3 PŁEĆ  WIEK\n",
       "0    IT     2      Nie      1     -2      1    M    64\n",
       "1    IT     2      Nie      0     -2     -2    M    67\n",
       "2    IT     2      Nie      1      2      2    M    65\n",
       "3    IT     2      Nie     -1     -2     -2    K    68\n",
       "4    IT     3      Tak      1      2     -1    K    65"
      ]
     },
     "execution_count": 2,
     "metadata": {},
     "output_type": "execute_result"
    }
   ],
   "source": [
    "df = pd.read_csv('ankieta.csv', sep=';', encoding='unicode_escape')\n",
    "df.rename(columns={'DZIA£': 'DZIAŁ', 'STA¯': 'STAŻ', 'P£EÆ': 'PŁEĆ'}, inplace=True)\n",
    "df.head()"
   ]
  },
  {
   "cell_type": "code",
   "execution_count": 3,
   "metadata": {},
   "outputs": [
    {
     "data": {
      "text/html": [
       "<div>\n",
       "<style scoped>\n",
       "    .dataframe tbody tr th:only-of-type {\n",
       "        vertical-align: middle;\n",
       "    }\n",
       "\n",
       "    .dataframe tbody tr th {\n",
       "        vertical-align: top;\n",
       "    }\n",
       "\n",
       "    .dataframe thead th {\n",
       "        text-align: right;\n",
       "    }\n",
       "</style>\n",
       "<table border=\"1\" class=\"dataframe\">\n",
       "  <thead>\n",
       "    <tr style=\"text-align: right;\">\n",
       "      <th></th>\n",
       "      <th>Odpowiedź</th>\n",
       "      <th>Prawdopodobieństwo</th>\n",
       "    </tr>\n",
       "  </thead>\n",
       "  <tbody>\n",
       "    <tr>\n",
       "      <th>0</th>\n",
       "      <td>-2</td>\n",
       "      <td>0.070</td>\n",
       "    </tr>\n",
       "    <tr>\n",
       "      <th>1</th>\n",
       "      <td>-1</td>\n",
       "      <td>0.085</td>\n",
       "    </tr>\n",
       "    <tr>\n",
       "      <th>2</th>\n",
       "      <td>0</td>\n",
       "      <td>0.200</td>\n",
       "    </tr>\n",
       "    <tr>\n",
       "      <th>3</th>\n",
       "      <td>1</td>\n",
       "      <td>0.500</td>\n",
       "    </tr>\n",
       "    <tr>\n",
       "      <th>4</th>\n",
       "      <td>2</td>\n",
       "      <td>0.145</td>\n",
       "    </tr>\n",
       "  </tbody>\n",
       "</table>\n",
       "</div>"
      ],
      "text/plain": [
       "   Odpowiedź  Prawdopodobieństwo\n",
       "0         -2               0.070\n",
       "1         -1               0.085\n",
       "2          0               0.200\n",
       "3          1               0.500\n",
       "4          2               0.145"
      ]
     },
     "execution_count": 3,
     "metadata": {},
     "output_type": "execute_result"
    }
   ],
   "source": [
    "data=[[-2,14/200],[-1,17/200],[0,40/200],[1,100/200],[2,29/200]]\n",
    "n=200\n",
    "df_new=pd.DataFrame(data,columns=['Odpowiedź','Prawdopodobieństwo'])\n",
    "df_new"
   ]
  },
  {
   "cell_type": "code",
   "execution_count": 4,
   "metadata": {},
   "outputs": [
    {
     "data": {
      "text/html": [
       "<div>\n",
       "<style scoped>\n",
       "    .dataframe tbody tr th:only-of-type {\n",
       "        vertical-align: middle;\n",
       "    }\n",
       "\n",
       "    .dataframe tbody tr th {\n",
       "        vertical-align: top;\n",
       "    }\n",
       "\n",
       "    .dataframe thead th {\n",
       "        text-align: right;\n",
       "    }\n",
       "</style>\n",
       "<table border=\"1\" class=\"dataframe\">\n",
       "  <thead>\n",
       "    <tr style=\"text-align: right;\">\n",
       "      <th></th>\n",
       "      <th>Odpowiedź</th>\n",
       "      <th>Prawdopodobieństwo</th>\n",
       "      <th>Dolna granica</th>\n",
       "      <th>Górna granica</th>\n",
       "    </tr>\n",
       "  </thead>\n",
       "  <tbody>\n",
       "    <tr>\n",
       "      <th>0</th>\n",
       "      <td>-2</td>\n",
       "      <td>0.070</td>\n",
       "      <td>0.034639</td>\n",
       "      <td>0.105361</td>\n",
       "    </tr>\n",
       "    <tr>\n",
       "      <th>1</th>\n",
       "      <td>-1</td>\n",
       "      <td>0.085</td>\n",
       "      <td>0.046350</td>\n",
       "      <td>0.123650</td>\n",
       "    </tr>\n",
       "    <tr>\n",
       "      <th>2</th>\n",
       "      <td>0</td>\n",
       "      <td>0.200</td>\n",
       "      <td>0.144564</td>\n",
       "      <td>0.255436</td>\n",
       "    </tr>\n",
       "    <tr>\n",
       "      <th>3</th>\n",
       "      <td>1</td>\n",
       "      <td>0.500</td>\n",
       "      <td>0.430705</td>\n",
       "      <td>0.569295</td>\n",
       "    </tr>\n",
       "    <tr>\n",
       "      <th>4</th>\n",
       "      <td>2</td>\n",
       "      <td>0.145</td>\n",
       "      <td>0.096202</td>\n",
       "      <td>0.193798</td>\n",
       "    </tr>\n",
       "  </tbody>\n",
       "</table>\n",
       "</div>"
      ],
      "text/plain": [
       "   Odpowiedź  Prawdopodobieństwo  Dolna granica  Górna granica\n",
       "0         -2               0.070       0.034639       0.105361\n",
       "1         -1               0.085       0.046350       0.123650\n",
       "2          0               0.200       0.144564       0.255436\n",
       "3          1               0.500       0.430705       0.569295\n",
       "4          2               0.145       0.096202       0.193798"
      ]
     },
     "execution_count": 4,
     "metadata": {},
     "output_type": "execute_result"
    }
   ],
   "source": [
    "alpha=0.05\n",
    "ci=proportion_confint(df_new['Prawdopodobieństwo']*n,n,alpha=alpha,method='normal')\n",
    "\n",
    "df_new['Dolna granica']=ci[0]\n",
    "df_new['Górna granica']=ci[1]\n",
    "df_new"
   ]
  },
  {
   "cell_type": "markdown",
   "metadata": {},
   "source": [
    "Widzimy, że wszystkie wartości prawdopodbieństw leżą w odpowiednich przedziałach ufności."
   ]
  },
  {
   "cell_type": "markdown",
   "metadata": {},
   "source": [
    "## Zadanie 2"
   ]
  },
  {
   "cell_type": "markdown",
   "metadata": {},
   "source": [
    "W zadaniu 2 stworzyliśmy funkcję, która wyznacza poziom wartości krytycznej w testach chi-kwadrat Pearsona oraz chi-kwadrat największej wiarygodności. Oba testy służą do weryfikacji hipotezy\n",
    "$H_0: p=p_0$ przeciwko $H_1: p\\neq p_0$. na podstawie obserwacji $x$ wektora losowego $X$ z rozkładu wielomianowego z parametrami $n$ i $p$.\n",
    "\n",
    "Wzór na statystykę testu chi-kwadrat Pearsona to:\n",
    "$\\chi^2 = \\sum \\frac{(O_i - E_i)^2}{E_i}$\n",
    "\n",
    "P-wartość dla testu chi-kwadrat Pearsona to:\n",
    "$p\\text{-value} = 1 - F_{\\chi^2}( \\chi^2, \\text{df})$\n",
    "\n",
    "Wzór na statystykę testu chi-kwadrat największej wiarygodności to:\n",
    "$G^2 = 2 \\sum O_i \\ln\\left(\\frac{O_i}{E_i}\\right)$\n",
    "\n",
    "P-wartość dla testu chi-kwadrat największej wiarygodności to:\n",
    "$p\\text{-value} = 1 - F_{\\chi^2}( G^2, \\text{df})$"
   ]
  },
  {
   "cell_type": "code",
   "execution_count": 5,
   "metadata": {},
   "outputs": [],
   "source": [
    "def pearson_chi2_pvalue(observed,p0):\n",
    "    \"\"\"\n",
    "    Calculate the p-value for Pearson's chi-square test.\n",
    "\n",
    "    This function computes the p-value for Pearson's chi-square test\n",
    "    based on observed frequencies and expected probabilities under the\n",
    "    null hypothesis.\n",
    "\n",
    "    Parameters:\n",
    "    observed (list or numpy array): Observed frequencies in each category.\n",
    "    p0 (list or numpy array): Expected probabilities under the null hypothesis.\n",
    "\n",
    "    Returns:\n",
    "    float: The p-value for Pearson's chi-square test.\n",
    "    \"\"\"\n",
    "    n = np.sum(observed)\n",
    "    expected = n * np.array(p0)\n",
    "    chi2_stat, p_value = scipy.stats.chisquare(observed, expected)\n",
    "    return p_value"
   ]
  },
  {
   "cell_type": "code",
   "execution_count": 6,
   "metadata": {},
   "outputs": [],
   "source": [
    "def pearson_chi2_likelihood_pvalue(observed,p0):\n",
    "    \"\"\"\n",
    "    Calculate the p-value for the likelihood ratio chi-square test.\n",
    "\n",
    "    This function computes the p-value for the likelihood ratio chi-square test\n",
    "    based on observed frequencies and expected probabilities under the null hypothesis.\n",
    "\n",
    "    Parameters:\n",
    "    observed (list or numpy array): Observed frequencies in each category.\n",
    "    p0 (list or numpy array): Expected probabilities under the null hypothesis.\n",
    "\n",
    "    Returns:\n",
    "    float: The p-value for the likelihood ratio chi-square test.\n",
    "    \"\"\"\n",
    "    observed = np.array(observed)\n",
    "    n = np.sum(observed)\n",
    "    expected = n * np.array(p0)\n",
    "    \n",
    "    observed_nonzero = observed[expected > 0]\n",
    "    expected_nonzero = expected[expected > 0]\n",
    "    \n",
    "    log_likelihood_ratio = 2 * np.sum(observed_nonzero * np.log(observed_nonzero / expected_nonzero))\n",
    "    degrees_of_freedom = len(observed) - 1\n",
    "    p_value = 1 - scipy.stats.chi2.cdf(log_likelihood_ratio, degrees_of_freedom)\n",
    "    return p_value"
   ]
  },
  {
   "cell_type": "markdown",
   "metadata": {},
   "source": [
    "Wygenerowanie próbki z rozkladu wielomianowego z przyjętymi parametrami $n$ i $p$."
   ]
  },
  {
   "cell_type": "code",
   "execution_count": 7,
   "metadata": {},
   "outputs": [],
   "source": [
    "n = 100 \n",
    "p0 = [0.3, 0.5, 0.2] \n",
    "observed_values = np.random.multinomial(n, p0)"
   ]
  },
  {
   "cell_type": "markdown",
   "metadata": {},
   "source": [
    "Poziom wartości krytycznej (p-value) dla testu Chi-Squared-Pearsona dla $\\alpha = 0.05$"
   ]
  },
  {
   "cell_type": "code",
   "execution_count": 8,
   "metadata": {},
   "outputs": [
    {
     "data": {
      "text/plain": [
       "0.7710515858035664"
      ]
     },
     "execution_count": 8,
     "metadata": {},
     "output_type": "execute_result"
    }
   ],
   "source": [
    "alpha=0.05\n",
    "pearson_chi2_pvalue(observed_values,p0)"
   ]
  },
  {
   "cell_type": "markdown",
   "metadata": {},
   "source": [
    "Wartość krytyczna dla testu Chi-Squared-Likelihood dla $\\alpha = 0.05$"
   ]
  },
  {
   "cell_type": "code",
   "execution_count": 9,
   "metadata": {},
   "outputs": [
    {
     "data": {
      "text/plain": [
       "0.7719666007708815"
      ]
     },
     "execution_count": 9,
     "metadata": {},
     "output_type": "execute_result"
    }
   ],
   "source": [
    "pearson_chi2_likelihood_pvalue(observed_values,p0)"
   ]
  },
  {
   "cell_type": "markdown",
   "metadata": {},
   "source": [
    "## Zadanie 3"
   ]
  },
  {
   "cell_type": "markdown",
   "metadata": {},
   "source": [
    "W zadaniu drugim chcemy zweryfikować hipotezę, że rozkład prawdopodobieństwa odpowiedzi na $\\texttt{PYT\\_2}$ jest jednakowy dla Działu Kreatywnego.\n",
    "\n",
    "Aby to zrobić skorzystamy z funkcji napisanej w zadaniu 2, natomiast potrzebujemy również wartości statystyk dla poszczególnych testów, a nie tylko wartości krytycznych. W tym celu napisaliśmy funkcję do obliczania wartości statystyk.\n",
    "\n",
    "Statystyka dla testu Chi-Squared-Pearsona:\n",
    "\n",
    "$\\chi^2_{Pearson}=\\sum_{i=1}^k\\frac{x_i-n\\cdot p_i}{n\\cdot p_i}$\n",
    "\n",
    "Statystyka dla testu Chi-Squared-Likelihood:\n",
    "\n",
    "$\\chi^2_{Likelihood}=2\\sum_{i=1}^k x_i\\log\\left(\\frac{x_i}{n\\cdot p_i}\\right)$"
   ]
  },
  {
   "cell_type": "code",
   "execution_count": 10,
   "metadata": {},
   "outputs": [],
   "source": [
    "def statistic_chi2_pearson(n,x,p):\n",
    "    \"\"\"\n",
    "    Calculate the Pearson's chi-squared statistic for testing goodness of fit.\n",
    "\n",
    "    Parameters:\n",
    "    - n (int or array-like): Sample size or array-like object containing observed frequencies for each category.\n",
    "    - x (int or array-like): Number of successes or array-like object containing observed frequencies for each category.\n",
    "    - p (float or array-like): Expected probability of success for each category or array-like object containing\n",
    "                               expected probabilities for each category.\n",
    "\n",
    "    Returns:\n",
    "    - float: Pearson's chi-squared statistic.\n",
    "\n",
    "    The function calculates the Pearson's chi-squared statistic for testing goodness of fit of observed frequencies\n",
    "    to expected frequencies under the null hypothesis of independence. It compares observed frequencies (x) with\n",
    "    expected frequencies (n*p) and computes the squared differences, divided by the expected frequencies, and summed\n",
    "    over all categories. This statistic is commonly used in chi-squared tests for categorical data analysis.\n",
    "    \"\"\"\n",
    "    stat=np.sum((x-n*p)**2/(n*p))\n",
    "    return stat"
   ]
  },
  {
   "cell_type": "code",
   "execution_count": 11,
   "metadata": {},
   "outputs": [],
   "source": [
    "def stat_chi2_likelihood(n,x,p):\n",
    "    \"\"\"\n",
    "    Calculate the likelihood ratio chi-squared statistic for testing goodness of fit.\n",
    "\n",
    "    Parameters:\n",
    "    - n (int or array-like): Sample size or array-like object containing observed frequencies for each category.\n",
    "    - x (int or array-like): Number of successes or array-like object containing observed frequencies for each category.\n",
    "    - p (float or array-like): Expected probability of success for each category or array-like object containing\n",
    "                               expected probabilities for each category.\n",
    "\n",
    "    Returns:\n",
    "    - float: Likelihood ratio chi-squared statistic.\n",
    "\n",
    "    The function calculates the likelihood ratio chi-squared statistic for testing goodness of fit of observed\n",
    "    frequencies to expected frequencies under the null hypothesis of independence. It compares observed frequencies\n",
    "    (x) with expected frequencies (n*p) and computes the log likelihood ratio for each category, multiplied by the\n",
    "    observed frequency, summed over all categories, and multiplied by 2. This statistic is commonly used in\n",
    "    likelihood ratio tests for categorical data analysis.\n",
    "    \"\"\"\n",
    "    stat=2*np.sum(x*np.log(x/(n*p)))\n",
    "    return stat"
   ]
  },
  {
   "cell_type": "code",
   "execution_count": 12,
   "metadata": {},
   "outputs": [
    {
     "data": {
      "text/html": [
       "<div>\n",
       "<style scoped>\n",
       "    .dataframe tbody tr th:only-of-type {\n",
       "        vertical-align: middle;\n",
       "    }\n",
       "\n",
       "    .dataframe tbody tr th {\n",
       "        vertical-align: top;\n",
       "    }\n",
       "\n",
       "    .dataframe thead th {\n",
       "        text-align: right;\n",
       "    }\n",
       "</style>\n",
       "<table border=\"1\" class=\"dataframe\">\n",
       "  <thead>\n",
       "    <tr style=\"text-align: right;\">\n",
       "      <th></th>\n",
       "      <th>DZIAŁ</th>\n",
       "      <th>STAŻ</th>\n",
       "      <th>CZY_KIER</th>\n",
       "      <th>PYT_1</th>\n",
       "      <th>PYT_2</th>\n",
       "      <th>PYT_3</th>\n",
       "      <th>PŁEĆ</th>\n",
       "      <th>WIEK</th>\n",
       "    </tr>\n",
       "  </thead>\n",
       "  <tbody>\n",
       "    <tr>\n",
       "      <th>0</th>\n",
       "      <td>DK</td>\n",
       "      <td>2</td>\n",
       "      <td>Tak</td>\n",
       "      <td>1</td>\n",
       "      <td>2</td>\n",
       "      <td>2</td>\n",
       "      <td>M</td>\n",
       "      <td>28</td>\n",
       "    </tr>\n",
       "    <tr>\n",
       "      <th>1</th>\n",
       "      <td>DK</td>\n",
       "      <td>1</td>\n",
       "      <td>Nie</td>\n",
       "      <td>1</td>\n",
       "      <td>2</td>\n",
       "      <td>2</td>\n",
       "      <td>M</td>\n",
       "      <td>26</td>\n",
       "    </tr>\n",
       "    <tr>\n",
       "      <th>2</th>\n",
       "      <td>DK</td>\n",
       "      <td>1</td>\n",
       "      <td>Nie</td>\n",
       "      <td>-1</td>\n",
       "      <td>-2</td>\n",
       "      <td>-2</td>\n",
       "      <td>M</td>\n",
       "      <td>25</td>\n",
       "    </tr>\n",
       "    <tr>\n",
       "      <th>3</th>\n",
       "      <td>DK</td>\n",
       "      <td>1</td>\n",
       "      <td>Nie</td>\n",
       "      <td>0</td>\n",
       "      <td>-2</td>\n",
       "      <td>1</td>\n",
       "      <td>M</td>\n",
       "      <td>27</td>\n",
       "    </tr>\n",
       "    <tr>\n",
       "      <th>4</th>\n",
       "      <td>DK</td>\n",
       "      <td>1</td>\n",
       "      <td>Nie</td>\n",
       "      <td>1</td>\n",
       "      <td>2</td>\n",
       "      <td>2</td>\n",
       "      <td>M</td>\n",
       "      <td>32</td>\n",
       "    </tr>\n",
       "    <tr>\n",
       "      <th>...</th>\n",
       "      <td>...</td>\n",
       "      <td>...</td>\n",
       "      <td>...</td>\n",
       "      <td>...</td>\n",
       "      <td>...</td>\n",
       "      <td>...</td>\n",
       "      <td>...</td>\n",
       "      <td>...</td>\n",
       "    </tr>\n",
       "    <tr>\n",
       "      <th>93</th>\n",
       "      <td>DK</td>\n",
       "      <td>2</td>\n",
       "      <td>Nie</td>\n",
       "      <td>1</td>\n",
       "      <td>2</td>\n",
       "      <td>2</td>\n",
       "      <td>M</td>\n",
       "      <td>38</td>\n",
       "    </tr>\n",
       "    <tr>\n",
       "      <th>94</th>\n",
       "      <td>DK</td>\n",
       "      <td>2</td>\n",
       "      <td>Tak</td>\n",
       "      <td>1</td>\n",
       "      <td>-1</td>\n",
       "      <td>1</td>\n",
       "      <td>M</td>\n",
       "      <td>41</td>\n",
       "    </tr>\n",
       "    <tr>\n",
       "      <th>95</th>\n",
       "      <td>DK</td>\n",
       "      <td>2</td>\n",
       "      <td>Tak</td>\n",
       "      <td>0</td>\n",
       "      <td>-2</td>\n",
       "      <td>2</td>\n",
       "      <td>M</td>\n",
       "      <td>44</td>\n",
       "    </tr>\n",
       "    <tr>\n",
       "      <th>96</th>\n",
       "      <td>DK</td>\n",
       "      <td>2</td>\n",
       "      <td>Nie</td>\n",
       "      <td>2</td>\n",
       "      <td>-2</td>\n",
       "      <td>-2</td>\n",
       "      <td>M</td>\n",
       "      <td>42</td>\n",
       "    </tr>\n",
       "    <tr>\n",
       "      <th>97</th>\n",
       "      <td>DK</td>\n",
       "      <td>2</td>\n",
       "      <td>Nie</td>\n",
       "      <td>0</td>\n",
       "      <td>-2</td>\n",
       "      <td>-2</td>\n",
       "      <td>M</td>\n",
       "      <td>40</td>\n",
       "    </tr>\n",
       "  </tbody>\n",
       "</table>\n",
       "<p>98 rows × 8 columns</p>\n",
       "</div>"
      ],
      "text/plain": [
       "   DZIAŁ  STAŻ CZY_KIER  PYT_1  PYT_2  PYT_3 PŁEĆ  WIEK\n",
       "0     DK     2      Tak      1      2      2    M    28\n",
       "1     DK     1      Nie      1      2      2    M    26\n",
       "2     DK     1      Nie     -1     -2     -2    M    25\n",
       "3     DK     1      Nie      0     -2      1    M    27\n",
       "4     DK     1      Nie      1      2      2    M    32\n",
       "..   ...   ...      ...    ...    ...    ...  ...   ...\n",
       "93    DK     2      Nie      1      2      2    M    38\n",
       "94    DK     2      Tak      1     -1      1    M    41\n",
       "95    DK     2      Tak      0     -2      2    M    44\n",
       "96    DK     2      Nie      2     -2     -2    M    42\n",
       "97    DK     2      Nie      0     -2     -2    M    40\n",
       "\n",
       "[98 rows x 8 columns]"
      ]
     },
     "execution_count": 12,
     "metadata": {},
     "output_type": "execute_result"
    }
   ],
   "source": [
    "dzial_kreatywny=df[df['DZIAŁ']=='DK']\n",
    "dzial_kreatywny.reset_index(drop=True,inplace=True)\n",
    "alpha=0.05\n",
    "prob=0.2\n",
    "dzial_kreatywny"
   ]
  },
  {
   "cell_type": "code",
   "execution_count": 13,
   "metadata": {},
   "outputs": [
    {
     "data": {
      "text/plain": [
       "array([ 9, 10, 17, 51, 11])"
      ]
     },
     "execution_count": 13,
     "metadata": {},
     "output_type": "execute_result"
    }
   ],
   "source": [
    "n=len(dzial_kreatywny)\n",
    "\n",
    "a=sum(dzial_kreatywny['PYT_1'] == -2)\n",
    "b=sum(dzial_kreatywny['PYT_1'] == -1)\n",
    "c=sum(dzial_kreatywny['PYT_1'] == 0)\n",
    "d=sum(dzial_kreatywny['PYT_1'] == 1)\n",
    "e=sum(dzial_kreatywny['PYT_1'] == 2)\n",
    "\n",
    "x=np.array([a,b,c,d,e])\n",
    "x"
   ]
  },
  {
   "cell_type": "markdown",
   "metadata": {},
   "source": [
    "Wartość krytyczna dla testu chi2-Pearsona:"
   ]
  },
  {
   "cell_type": "code",
   "execution_count": 14,
   "metadata": {},
   "outputs": [
    {
     "data": {
      "text/plain": [
       "2.7578344347347053e-13"
      ]
     },
     "execution_count": 14,
     "metadata": {},
     "output_type": "execute_result"
    }
   ],
   "source": [
    "criticalzad2=pearson_chi2_pvalue(x,prob)\n",
    "criticalzad2"
   ]
  },
  {
   "cell_type": "markdown",
   "metadata": {},
   "source": [
    "Wartość krytyczna dla testu chi2-Likelihood:"
   ]
  },
  {
   "cell_type": "code",
   "execution_count": 15,
   "metadata": {},
   "outputs": [
    {
     "data": {
      "text/plain": [
       "1.0701994845874196e-10"
      ]
     },
     "execution_count": 15,
     "metadata": {},
     "output_type": "execute_result"
    }
   ],
   "source": [
    "likelihoodzad2=pearson_chi2_likelihood_pvalue(x,prob)\n",
    "likelihoodzad2"
   ]
  },
  {
   "cell_type": "markdown",
   "metadata": {},
   "source": [
    "Wartość statystyki dla testu chi2-Pearsona:"
   ]
  },
  {
   "cell_type": "code",
   "execution_count": 16,
   "metadata": {},
   "outputs": [
    {
     "data": {
      "text/plain": [
       "64.85714285714285"
      ]
     },
     "execution_count": 16,
     "metadata": {},
     "output_type": "execute_result"
    }
   ],
   "source": [
    "statzad2_chi2_pearson=statistic_chi2_pearson(n,x,prob)\n",
    "statzad2_chi2_pearson"
   ]
  },
  {
   "cell_type": "markdown",
   "metadata": {},
   "source": [
    "Odrzucamy hipotezę zerową, ponieważ wartość statystyki jest większa od wartości krytycznej."
   ]
  },
  {
   "cell_type": "markdown",
   "metadata": {},
   "source": [
    "Wartość statystyki dla testu chi2-Likelihood:"
   ]
  },
  {
   "cell_type": "code",
   "execution_count": 17,
   "metadata": {},
   "outputs": [
    {
     "data": {
      "text/plain": [
       "52.52711350694117"
      ]
     },
     "execution_count": 17,
     "metadata": {},
     "output_type": "execute_result"
    }
   ],
   "source": [
    "statzad2_chi2_likelihood=stat_chi2_likelihood(n,x,prob)\n",
    "statzad2_chi2_likelihood"
   ]
  },
  {
   "cell_type": "markdown",
   "metadata": {},
   "source": [
    "Odrzucamy hipotezę zerową, ponieważ wartość statystyki jest większa od wartości krytycznej."
   ]
  },
  {
   "cell_type": "markdown",
   "metadata": {},
   "source": [
    "Wszystkie hipotezy zostały odrzucone, a zatem rozkład prawdopodobieństw nie jest jednakowy."
   ]
  },
  {
   "cell_type": "markdown",
   "metadata": {},
   "source": [
    "# Część II"
   ]
  },
  {
   "cell_type": "markdown",
   "metadata": {},
   "source": [
    "## Zadanie 4 "
   ]
  },
  {
   "cell_type": "markdown",
   "metadata": {},
   "source": [
    "Zapoznaliśmy się"
   ]
  },
  {
   "cell_type": "markdown",
   "metadata": {},
   "source": [
    "## Zadanie 5"
   ]
  },
  {
   "cell_type": "markdown",
   "metadata": {},
   "source": [
    "Dokładny test Fishera jest używany do oceny niezależności dwóch zmiennych kategorycznych. W tym zadaniu korzystając z funkcji wbudowanej $\\texttt{fisher\\_exact}$ zweryfikujemy hipotezę, że zmienna $\\texttt{PŁEĆ}$ jest niezależna od zmiennej $\\texttt{CZY\\_KIER}$. Użyjemy domyślnego parametru $\\texttt{alternative='two-sided'}$, ta alternatywa sugeruje nam, że istnieje jakiś rodzaj związku między danymi, ale nie określa kierunku tego związku.\n",
    "\n",
    "Przyjęliśmy poziom istotności $\\alpha=0.05$."
   ]
  },
  {
   "cell_type": "code",
   "execution_count": 18,
   "metadata": {},
   "outputs": [],
   "source": [
    "alpha=0.05\n",
    "new_df=pd.crosstab(df['PŁEĆ'],df['CZY_KIER'])"
   ]
  },
  {
   "cell_type": "code",
   "execution_count": 19,
   "metadata": {},
   "outputs": [
    {
     "data": {
      "text/plain": [
       "(1.3602272727272726, 0.6659028889666552)"
      ]
     },
     "execution_count": 19,
     "metadata": {},
     "output_type": "execute_result"
    }
   ],
   "source": [
    "odds_ratio, p_value = scipy.stats.fisher_exact(new_df)\n",
    "odds_ratio, p_value"
   ]
  },
  {
   "cell_type": "markdown",
   "metadata": {},
   "source": [
    "Nie ma podstaw do odrzucenia hipotezy zerowej, ponieważ wartość p-value jest większa od poziomu istotności.\n",
    "\n",
    "Czy jesteśmy w stanie stwierdzić, że na stanowisku kierowniczym pracuje tyle samo kobiet co mężczyzn? Nie, brak odrzucenia hipotezy zerowej nie oznacza, że oba prawdopodieństwa są równe. Oznacza to jedynie, że nie ma statystycznie istotnej różnicy między płcią a byciem kierownikiem na podstawie przeprowadzonego testu."
   ]
  },
  {
   "cell_type": "markdown",
   "metadata": {},
   "source": [
    "W tym zadaniu dodatkowo sprawdziliśmy jak wyglądałby wynik testu, gdybyśmy użyli funkcji $\\texttt{chi2\\_contingency}$, która działa dla większych tablic nie o wymiarze 2x2."
   ]
  },
  {
   "cell_type": "code",
   "execution_count": 20,
   "metadata": {},
   "outputs": [
    {
     "data": {
      "text/plain": [
       "0.6389361327391145"
      ]
     },
     "execution_count": 20,
     "metadata": {},
     "output_type": "execute_result"
    }
   ],
   "source": [
    "chi2, p_value, dof, expected=scipy.stats.chi2_contingency(new_df)\n",
    "p_value"
   ]
  },
  {
   "cell_type": "markdown",
   "metadata": {},
   "source": [
    "Znów nie mamy podstaw do odrzucenia hipotezy zerowej, ponieważ wartość p-value jest większa od poziomu istotności, co jest zgodne z wynikiem uzyskanym wcześniej."
   ]
  },
  {
   "cell_type": "markdown",
   "metadata": {},
   "source": [
    "## Zadanie 6"
   ]
  },
  {
   "cell_type": "markdown",
   "metadata": {},
   "source": [
    "Wiemy, że test Fishera jest uogólnieniem testu Freemana-Haltona dla tablic o rozmiarze 2x2. W tym zadaniu chcemy zweryfikować hipotezy niezalezności dla tablic nie o wymierze 2x2, w tym celu musimy skorzystać z funkcji $\\texttt{chi2\\_contingency}$, która zwraca wartość statystyki testowej oraz wartość p-value."
   ]
  },
  {
   "cell_type": "code",
   "execution_count": 21,
   "metadata": {},
   "outputs": [
    {
     "data": {
      "text/html": [
       "<div>\n",
       "<style scoped>\n",
       "    .dataframe tbody tr th:only-of-type {\n",
       "        vertical-align: middle;\n",
       "    }\n",
       "\n",
       "    .dataframe tbody tr th {\n",
       "        vertical-align: top;\n",
       "    }\n",
       "\n",
       "    .dataframe thead th {\n",
       "        text-align: right;\n",
       "    }\n",
       "</style>\n",
       "<table border=\"1\" class=\"dataframe\">\n",
       "  <thead>\n",
       "    <tr style=\"text-align: right;\">\n",
       "      <th></th>\n",
       "      <th>DZIAŁ</th>\n",
       "      <th>STAŻ</th>\n",
       "      <th>CZY_KIER</th>\n",
       "      <th>PYT_1</th>\n",
       "      <th>PYT_2</th>\n",
       "      <th>PYT_3</th>\n",
       "      <th>PŁEĆ</th>\n",
       "      <th>WIEK</th>\n",
       "      <th>WIEK_KAT</th>\n",
       "    </tr>\n",
       "  </thead>\n",
       "  <tbody>\n",
       "    <tr>\n",
       "      <th>0</th>\n",
       "      <td>IT</td>\n",
       "      <td>2</td>\n",
       "      <td>Nie</td>\n",
       "      <td>1</td>\n",
       "      <td>-2</td>\n",
       "      <td>1</td>\n",
       "      <td>M</td>\n",
       "      <td>64</td>\n",
       "      <td>powyzej 55</td>\n",
       "    </tr>\n",
       "    <tr>\n",
       "      <th>1</th>\n",
       "      <td>IT</td>\n",
       "      <td>2</td>\n",
       "      <td>Nie</td>\n",
       "      <td>0</td>\n",
       "      <td>-2</td>\n",
       "      <td>-2</td>\n",
       "      <td>M</td>\n",
       "      <td>67</td>\n",
       "      <td>powyzej 55</td>\n",
       "    </tr>\n",
       "    <tr>\n",
       "      <th>2</th>\n",
       "      <td>IT</td>\n",
       "      <td>2</td>\n",
       "      <td>Nie</td>\n",
       "      <td>1</td>\n",
       "      <td>2</td>\n",
       "      <td>2</td>\n",
       "      <td>M</td>\n",
       "      <td>65</td>\n",
       "      <td>powyzej 55</td>\n",
       "    </tr>\n",
       "    <tr>\n",
       "      <th>3</th>\n",
       "      <td>IT</td>\n",
       "      <td>2</td>\n",
       "      <td>Nie</td>\n",
       "      <td>-1</td>\n",
       "      <td>-2</td>\n",
       "      <td>-2</td>\n",
       "      <td>K</td>\n",
       "      <td>68</td>\n",
       "      <td>powyzej 55</td>\n",
       "    </tr>\n",
       "    <tr>\n",
       "      <th>4</th>\n",
       "      <td>IT</td>\n",
       "      <td>3</td>\n",
       "      <td>Tak</td>\n",
       "      <td>1</td>\n",
       "      <td>2</td>\n",
       "      <td>-1</td>\n",
       "      <td>K</td>\n",
       "      <td>65</td>\n",
       "      <td>powyzej 55</td>\n",
       "    </tr>\n",
       "    <tr>\n",
       "      <th>...</th>\n",
       "      <td>...</td>\n",
       "      <td>...</td>\n",
       "      <td>...</td>\n",
       "      <td>...</td>\n",
       "      <td>...</td>\n",
       "      <td>...</td>\n",
       "      <td>...</td>\n",
       "      <td>...</td>\n",
       "      <td>...</td>\n",
       "    </tr>\n",
       "    <tr>\n",
       "      <th>195</th>\n",
       "      <td>HR</td>\n",
       "      <td>2</td>\n",
       "      <td>Nie</td>\n",
       "      <td>1</td>\n",
       "      <td>2</td>\n",
       "      <td>2</td>\n",
       "      <td>M</td>\n",
       "      <td>42</td>\n",
       "      <td>36-45</td>\n",
       "    </tr>\n",
       "    <tr>\n",
       "      <th>196</th>\n",
       "      <td>HR</td>\n",
       "      <td>2</td>\n",
       "      <td>Nie</td>\n",
       "      <td>1</td>\n",
       "      <td>-1</td>\n",
       "      <td>-1</td>\n",
       "      <td>K</td>\n",
       "      <td>35</td>\n",
       "      <td>do 35 lat</td>\n",
       "    </tr>\n",
       "    <tr>\n",
       "      <th>197</th>\n",
       "      <td>HR</td>\n",
       "      <td>2</td>\n",
       "      <td>Nie</td>\n",
       "      <td>-1</td>\n",
       "      <td>-2</td>\n",
       "      <td>-2</td>\n",
       "      <td>K</td>\n",
       "      <td>39</td>\n",
       "      <td>36-45</td>\n",
       "    </tr>\n",
       "    <tr>\n",
       "      <th>198</th>\n",
       "      <td>HR</td>\n",
       "      <td>2</td>\n",
       "      <td>Nie</td>\n",
       "      <td>1</td>\n",
       "      <td>2</td>\n",
       "      <td>1</td>\n",
       "      <td>K</td>\n",
       "      <td>48</td>\n",
       "      <td>46-55</td>\n",
       "    </tr>\n",
       "    <tr>\n",
       "      <th>199</th>\n",
       "      <td>HR</td>\n",
       "      <td>2</td>\n",
       "      <td>Nie</td>\n",
       "      <td>1</td>\n",
       "      <td>2</td>\n",
       "      <td>2</td>\n",
       "      <td>K</td>\n",
       "      <td>42</td>\n",
       "      <td>36-45</td>\n",
       "    </tr>\n",
       "  </tbody>\n",
       "</table>\n",
       "<p>200 rows × 9 columns</p>\n",
       "</div>"
      ],
      "text/plain": [
       "    DZIAŁ  STAŻ CZY_KIER  PYT_1  PYT_2  PYT_3 PŁEĆ  WIEK    WIEK_KAT\n",
       "0      IT     2      Nie      1     -2      1    M    64  powyzej 55\n",
       "1      IT     2      Nie      0     -2     -2    M    67  powyzej 55\n",
       "2      IT     2      Nie      1      2      2    M    65  powyzej 55\n",
       "3      IT     2      Nie     -1     -2     -2    K    68  powyzej 55\n",
       "4      IT     3      Tak      1      2     -1    K    65  powyzej 55\n",
       "..    ...   ...      ...    ...    ...    ...  ...   ...         ...\n",
       "195    HR     2      Nie      1      2      2    M    42       36-45\n",
       "196    HR     2      Nie      1     -1     -1    K    35   do 35 lat\n",
       "197    HR     2      Nie     -1     -2     -2    K    39       36-45\n",
       "198    HR     2      Nie      1      2      1    K    48       46-55\n",
       "199    HR     2      Nie      1      2      2    K    42       36-45\n",
       "\n",
       "[200 rows x 9 columns]"
      ]
     },
     "execution_count": 21,
     "metadata": {},
     "output_type": "execute_result"
    }
   ],
   "source": [
    "df['WIEK_KAT'] = pd.cut(df['WIEK'], bins=[0, 35, 45, 55, 100], labels=['do 35 lat', '36-45', '46-55', 'powyzej 55'])\n",
    "df"
   ]
  },
  {
   "cell_type": "markdown",
   "metadata": {},
   "source": [
    "Zajmowanie stanowiska kierowniczego nie zależy od wieku:"
   ]
  },
  {
   "cell_type": "code",
   "execution_count": 22,
   "metadata": {},
   "outputs": [
    {
     "data": {
      "text/plain": [
       "0.7818279913988688"
      ]
     },
     "execution_count": 22,
     "metadata": {},
     "output_type": "execute_result"
    }
   ],
   "source": [
    "new_df1=pd.crosstab(df['WIEK_KAT'],df['CZY_KIER'])\n",
    "\n",
    "chi2, p_value, dof, expected=scipy.stats.chi2_contingency(new_df1)\n",
    "p_value"
   ]
  },
  {
   "cell_type": "markdown",
   "metadata": {},
   "source": [
    "Nie ma podstaw do odrzucenia hipotezy zerowej, ponieważ wartość p-value jest większa od poziomu istotności."
   ]
  },
  {
   "cell_type": "markdown",
   "metadata": {},
   "source": [
    "Zajmowanie stanowiska kierowniczego nie zalezy od stażu pracy:"
   ]
  },
  {
   "cell_type": "code",
   "execution_count": 23,
   "metadata": {},
   "outputs": [
    {
     "data": {
      "text/plain": [
       "9.258630522237527e-06"
      ]
     },
     "execution_count": 23,
     "metadata": {},
     "output_type": "execute_result"
    }
   ],
   "source": [
    "new_df2=pd.crosstab(df['STAŻ'], df['CZY_KIER'])\n",
    "\n",
    "chi2, p_value, dof, expected=scipy.stats.chi2_contingency(new_df2)\n",
    "p_value\n"
   ]
  },
  {
   "cell_type": "markdown",
   "metadata": {},
   "source": [
    "Odrzucamy hipotezę zerową, ponieważ p-wartość jest mniejsza od poziomu istotności."
   ]
  },
  {
   "cell_type": "markdown",
   "metadata": {},
   "source": [
    "Zadowolenie z wynagrodzenia w pierwszym badanym okresie nie zależy od zajmowanego stanowiska:"
   ]
  },
  {
   "cell_type": "code",
   "execution_count": 24,
   "metadata": {},
   "outputs": [
    {
     "data": {
      "text/plain": [
       "0.0043970813557677796"
      ]
     },
     "execution_count": 24,
     "metadata": {},
     "output_type": "execute_result"
    }
   ],
   "source": [
    "new_df3=pd.crosstab(df['PYT_2'], df['CZY_KIER'])\n",
    "\n",
    "chi2, p_value, dof, expected=scipy.stats.chi2_contingency(new_df3)\n",
    "p_value\n"
   ]
  },
  {
   "cell_type": "markdown",
   "metadata": {},
   "source": [
    "Odrzucamy hipotezę zerową, ponieważ p-wartość jest mniejsza od poziomu istotności."
   ]
  },
  {
   "cell_type": "markdown",
   "metadata": {},
   "source": [
    "Zadowolenie z wynagrodzenia w pierwszym badanym okresie nie zależy od stażu:"
   ]
  },
  {
   "cell_type": "code",
   "execution_count": 25,
   "metadata": {},
   "outputs": [
    {
     "data": {
      "text/plain": [
       "0.00021153098719568693"
      ]
     },
     "execution_count": 25,
     "metadata": {},
     "output_type": "execute_result"
    }
   ],
   "source": [
    "new_df4=pd.crosstab(df['PYT_2'], df['STAŻ'])\n",
    "\n",
    "chi2, p_value, dof, expected=scipy.stats.chi2_contingency(new_df4)\n",
    "p_value"
   ]
  },
  {
   "cell_type": "markdown",
   "metadata": {},
   "source": [
    "Odrzucamy hipotezę zerową, ponieważ p-wartość jest mniejsza od poziomu istotności."
   ]
  },
  {
   "cell_type": "markdown",
   "metadata": {},
   "source": [
    "Zadowolenie z wynagrodzenia w pierwszym badanym okresie nie zależy od płci:"
   ]
  },
  {
   "cell_type": "code",
   "execution_count": 26,
   "metadata": {},
   "outputs": [
    {
     "data": {
      "text/plain": [
       "0.5182765559878681"
      ]
     },
     "execution_count": 26,
     "metadata": {},
     "output_type": "execute_result"
    }
   ],
   "source": [
    "new_df5=pd.crosstab(df['PYT_2'], df['PŁEĆ'])\n",
    "\n",
    "chi2, p_value, dof, expected=scipy.stats.chi2_contingency(new_df5)\n",
    "p_value"
   ]
  },
  {
   "cell_type": "markdown",
   "metadata": {},
   "source": [
    "Nie ma podstaw do odrzucenia hipotezy zerowej, ponieważ wartość p-value jest większa od poziomu istotności."
   ]
  },
  {
   "cell_type": "markdown",
   "metadata": {},
   "source": [
    "Zadowolenie z wynagrodzenia w pierwszym badanym okresie nie zależy od wieku:"
   ]
  },
  {
   "cell_type": "code",
   "execution_count": 27,
   "metadata": {},
   "outputs": [
    {
     "data": {
      "text/plain": [
       "0.36311016909097266"
      ]
     },
     "execution_count": 27,
     "metadata": {},
     "output_type": "execute_result"
    }
   ],
   "source": [
    "new_df6=pd.crosstab(df['WIEK_KAT'], df['PYT_2'])\n",
    "\n",
    "chi2, p_value, dof, expected=scipy.stats.chi2_contingency(new_df6)\n",
    "p_value"
   ]
  },
  {
   "cell_type": "markdown",
   "metadata": {},
   "source": [
    "Nie ma podstaw do odrzucenia hipotezy zerowej, ponieważ wartość p-value jest większa od poziomu istotności."
   ]
  },
  {
   "cell_type": "markdown",
   "metadata": {},
   "source": [
    "# Część III"
   ]
  },
  {
   "cell_type": "markdown",
   "metadata": {},
   "source": [
    "## Zadanie 7"
   ]
  },
  {
   "cell_type": "markdown",
   "metadata": {},
   "source": [
    "Zapoznaliśmy się."
   ]
  },
  {
   "cell_type": "markdown",
   "metadata": {},
   "source": [
    "## Zadanie 8"
   ]
  },
  {
   "cell_type": "markdown",
   "metadata": {},
   "source": [
    "W tym zadaniu chcemy zweryfikować hipotezę, że zmienna $\\texttt{CZY\\_KIER}$ jest niezależna od zmiennej $\\texttt{PYT\\_2}$. W tym celu skorzystamy z funkcji $\\texttt{chi2\\_contingency}$, która zwraca wartość statystyki testowej oraz wartość p-value. Przyjmijmy poziom istotności $\\alpha=0.01$."
   ]
  },
  {
   "cell_type": "markdown",
   "metadata": {},
   "source": [
    "Wersja python:"
   ]
  },
  {
   "cell_type": "code",
   "execution_count": 28,
   "metadata": {},
   "outputs": [
    {
     "data": {
      "text/plain": [
       "0.0043970813557677796"
      ]
     },
     "execution_count": 28,
     "metadata": {},
     "output_type": "execute_result"
    }
   ],
   "source": [
    "new_df7 = pd.crosstab(df['PYT_2'], df['CZY_KIER'])\n",
    "\n",
    "chi2, p_value, dof, expected = scipy.stats.chi2_contingency(new_df7)\n",
    "p_value"
   ]
  },
  {
   "cell_type": "markdown",
   "metadata": {},
   "source": [
    "Odrzucamy hipotezę zerową, ponieważ p-wartość jest mniejsza od poziomu istotności."
   ]
  },
  {
   "cell_type": "markdown",
   "metadata": {},
   "source": [
    "Wersja R:"
   ]
  },
  {
   "cell_type": "code",
   "execution_count": 29,
   "metadata": {},
   "outputs": [
    {
     "name": "stdout",
     "output_type": "stream",
     "text": [
      "\n",
      "\tPearson's Chi-squared test\n",
      "\n",
      "data:  structure(c(64L, 18L, 0L, 91L, 10L, 2L, 2L, 13L), dim = c(4L, 2L), dimnames = list(c(\"-2\", \"-1\", \"1\", \"2\"), c(\"Nie\", \"Tak\")))\n",
      "X-squared = 13.114, df = 3, p-value = 0.004397\n",
      "\n",
      "\n"
     ]
    }
   ],
   "source": [
    "data_r_matrix = ro.r.matrix(new_df7.to_numpy(), nrow=new_df7.shape[0], ncol=new_df7.shape[1])\n",
    "data_r_matrix.colnames = ro.StrVector(new_df7.columns)\n",
    "data_r_matrix.rownames = ro.StrVector(new_df7.index.astype(str))\n",
    "\n",
    "test_result = stats_r.chisq_test(data_r_matrix)\n",
    "print(test_result)"
   ]
  },
  {
   "cell_type": "markdown",
   "metadata": {},
   "source": [
    "Odrzucamy hipotezę zerową, ponieważ p-wartość jest mniejsza od poziomu istotności. Widzimy, że wyniki są te same (również w zadaniu 6)."
   ]
  },
  {
   "cell_type": "code",
   "execution_count": 30,
   "metadata": {},
   "outputs": [
    {
     "name": "stderr",
     "output_type": "stream",
     "text": [
      "Exception ignored from cffi callback <function _consolewrite_ex at 0x0000020F19A0FC40>:\n",
      "Traceback (most recent call last):\n",
      "  File \"c:\\Users\\jakub\\AppData\\Local\\Programs\\Python\\Python311\\Lib\\site-packages\\rpy2\\rinterface_lib\\callbacks.py\", line 133, in _consolewrite_ex\n",
      "    s = conversion._cchar_to_str_with_maxlen(buf, n, _CCHAR_ENCODING)\n",
      "        ^^^^^^^^^^^^^^^^^^^^^^^^^^^^^^^^^^^^^^^^^^^^^^^^^^^^^^^^^^^^^\n",
      "  File \"c:\\Users\\jakub\\AppData\\Local\\Programs\\Python\\Python311\\Lib\\site-packages\\rpy2\\rinterface_lib\\conversion.py\", line 138, in _cchar_to_str_with_maxlen\n",
      "    s = ffi.string(c, maxlen).decode(encoding)\n",
      "        ^^^^^^^^^^^^^^^^^^^^^^^^^^^^^^^^^^^^^^\n",
      "UnicodeDecodeError: 'utf-8' codec can't decode byte 0xf3 in position 79: invalid continuation byte\n",
      "Exception ignored from cffi callback <function _consolewrite_ex at 0x0000020F19A0FC40>:\n",
      "Traceback (most recent call last):\n",
      "  File \"c:\\Users\\jakub\\AppData\\Local\\Programs\\Python\\Python311\\Lib\\site-packages\\rpy2\\rinterface_lib\\callbacks.py\", line 133, in _consolewrite_ex\n",
      "    s = conversion._cchar_to_str_with_maxlen(buf, n, _CCHAR_ENCODING)\n",
      "        ^^^^^^^^^^^^^^^^^^^^^^^^^^^^^^^^^^^^^^^^^^^^^^^^^^^^^^^^^^^^^\n",
      "  File \"c:\\Users\\jakub\\AppData\\Local\\Programs\\Python\\Python311\\Lib\\site-packages\\rpy2\\rinterface_lib\\conversion.py\", line 138, in _cchar_to_str_with_maxlen\n",
      "    s = ffi.string(c, maxlen).decode(encoding)\n",
      "        ^^^^^^^^^^^^^^^^^^^^^^^^^^^^^^^^^^^^^^\n",
      "UnicodeDecodeError: 'utf-8' codec can't decode byte 0xf3 in position 79: invalid continuation byte\n"
     ]
    },
    {
     "name": "stderr",
     "output_type": "stream",
     "text": [
      "Exception ignored from cffi callback <function _consolewrite_ex at 0x0000020F19A0FC40>:\n",
      "Traceback (most recent call last):\n",
      "  File \"c:\\Users\\jakub\\AppData\\Local\\Programs\\Python\\Python311\\Lib\\site-packages\\rpy2\\rinterface_lib\\callbacks.py\", line 133, in _consolewrite_ex\n",
      "    s = conversion._cchar_to_str_with_maxlen(buf, n, _CCHAR_ENCODING)\n",
      "        ^^^^^^^^^^^^^^^^^^^^^^^^^^^^^^^^^^^^^^^^^^^^^^^^^^^^^^^^^^^^^\n",
      "  File \"c:\\Users\\jakub\\AppData\\Local\\Programs\\Python\\Python311\\Lib\\site-packages\\rpy2\\rinterface_lib\\conversion.py\", line 138, in _cchar_to_str_with_maxlen\n",
      "    s = ffi.string(c, maxlen).decode(encoding)\n",
      "        ^^^^^^^^^^^^^^^^^^^^^^^^^^^^^^^^^^^^^^\n",
      "UnicodeDecodeError: 'utf-8' codec can't decode byte 0xf3 in position 79: invalid continuation byte\n",
      "Exception ignored from cffi callback <function _consolewrite_ex at 0x0000020F19A0FC40>:\n",
      "Traceback (most recent call last):\n",
      "  File \"c:\\Users\\jakub\\AppData\\Local\\Programs\\Python\\Python311\\Lib\\site-packages\\rpy2\\rinterface_lib\\callbacks.py\", line 133, in _consolewrite_ex\n",
      "    s = conversion._cchar_to_str_with_maxlen(buf, n, _CCHAR_ENCODING)\n",
      "        ^^^^^^^^^^^^^^^^^^^^^^^^^^^^^^^^^^^^^^^^^^^^^^^^^^^^^^^^^^^^^\n",
      "  File \"c:\\Users\\jakub\\AppData\\Local\\Programs\\Python\\Python311\\Lib\\site-packages\\rpy2\\rinterface_lib\\conversion.py\", line 138, in _cchar_to_str_with_maxlen\n",
      "    s = ffi.string(c, maxlen).decode(encoding)\n",
      "        ^^^^^^^^^^^^^^^^^^^^^^^^^^^^^^^^^^^^^^\n",
      "UnicodeDecodeError: 'utf-8' codec can't decode byte 0xbf in position 28: invalid start byte\n"
     ]
    },
    {
     "data": {
      "text/plain": [
       "In addition: Warning messages:\n",
       "1: In (function (package, help, pos = 2, lib.loc = NULL, character.only = FALSE,  :\n",
       " 2: In (function (package, help, pos = 2, lib.loc = NULL, character.only = FALSE,  :\n",
       " 3: In (function (package, help, pos = 2, lib.loc = NULL, character.only = FALSE,  :\n",
       " 4: In (function (x, y = NULL, correct = TRUE, p = rep(1/length(x),  :\n",
       " "
      ]
     },
     "metadata": {},
     "output_type": "display_data"
    },
    {
     "data": {
      "image/png": "[encoded data removed]",
      "text/plain": [
       "<IPython.core.display.Image object>"
      ]
     },
     "metadata": {},
     "output_type": "display_data"
    }
   ],
   "source": [
    "data_r_matrix = ro.r.matrix(new_df7.to_numpy(), nrow=new_df7.shape[0], ncol=new_df7.shape[1])\n",
    "%R -i data_r_matrix\n",
    "%R -w 1000 -h 500 -u px graphics::assocplot(data_r_matrix); title('Association plot')"
   ]
  },
  {
   "cell_type": "markdown",
   "metadata": {},
   "source": [
    "## Zadanie 9"
   ]
  },
  {
   "cell_type": "markdown",
   "metadata": {},
   "source": [
    "W tym zadaniu chcemy obliczyć moce testu dla testu Fishera oraz mocy testu chi-kwadrat Pearsona, generując dane z tabeli 2x2. Symulacje wykonamy dla $n=50,100,1000$. Wartość $\\texttt{power}$ obliczymy jako iloraz całkowitej liczby odrzuceń hipotezy zerowej do liczby wszystkich symulacji."
   ]
  },
  {
   "cell_type": "code",
   "execution_count": 31,
   "metadata": {},
   "outputs": [],
   "source": [
    "def power(sample_size, probabilities, num_simulations=10000, significance_level=0.05):\n",
    "    \"\"\"\n",
    "    Computes the power of Chi-squared and Fisher's exact tests for different sample sizes.\n",
    "\n",
    "    Parameters:\n",
    "    sample_size (int): The size of the sample.\n",
    "    probabilities (list): A list of probabilities for each category.\n",
    "    num_simulations (int): The number of simulations to perform (default is 10000).\n",
    "    significance_level (float): The significance level for the tests (default is 0.05).\n",
    "\n",
    "    Returns:\n",
    "    tuple: The power of the Chi-squared and Fisher's exact tests as values between 0 and 1.\n",
    "    \"\"\"\n",
    "    power_chi2 = 0\n",
    "    power_fisher = 0\n",
    "    \n",
    "    for _ in range(num_simulations):\n",
    "        sample = np.random.multinomial(sample_size, probabilities).reshape(2, 2)\n",
    "        \n",
    "        _, p_value_chi2, _, _ = scipy.stats.chi2_contingency(sample + 0.00001) # to avoid division by zero\n",
    "        if p_value_chi2 < significance_level:\n",
    "            power_chi2 += 1\n",
    "        \n",
    "        _, p_value_fisher = scipy.stats.fisher_exact(sample)\n",
    "        if p_value_fisher < significance_level:\n",
    "            power_fisher += 1\n",
    "            \n",
    "    return power_chi2 / num_simulations, power_fisher / num_simulations\n"
   ]
  },
  {
   "cell_type": "code",
   "execution_count": 32,
   "metadata": {},
   "outputs": [],
   "source": [
    "sample_sizes = [50, 100, 1000]\n",
    "probabilities = [1/40, 3/40, 19/40, 17/40]\n",
    "significance_level = 0.05\n",
    "num_simulations = 1000\n",
    "\n",
    "results = []\n",
    "\n",
    "for size in sample_sizes:\n",
    "    chi2_power, fisher_power = power(size, probabilities, num_simulations=num_simulations, significance_level=significance_level)\n",
    "    results.append({'n': size, 'chi2': chi2_power, 'fisher': fisher_power})\n",
    "\n",
    "results_df = pd.DataFrame(results)"
   ]
  },
  {
   "cell_type": "code",
   "execution_count": 33,
   "metadata": {},
   "outputs": [
    {
     "data": {
      "text/html": [
       "<div>\n",
       "<style scoped>\n",
       "    .dataframe tbody tr th:only-of-type {\n",
       "        vertical-align: middle;\n",
       "    }\n",
       "\n",
       "    .dataframe tbody tr th {\n",
       "        vertical-align: top;\n",
       "    }\n",
       "\n",
       "    .dataframe thead th {\n",
       "        text-align: right;\n",
       "    }\n",
       "</style>\n",
       "<table border=\"1\" class=\"dataframe\">\n",
       "  <thead>\n",
       "    <tr style=\"text-align: right;\">\n",
       "      <th></th>\n",
       "      <th>n</th>\n",
       "      <th>chi2</th>\n",
       "      <th>fisher</th>\n",
       "    </tr>\n",
       "  </thead>\n",
       "  <tbody>\n",
       "    <tr>\n",
       "      <th>0</th>\n",
       "      <td>50</td>\n",
       "      <td>0.076</td>\n",
       "      <td>0.113</td>\n",
       "    </tr>\n",
       "    <tr>\n",
       "      <th>1</th>\n",
       "      <td>100</td>\n",
       "      <td>0.260</td>\n",
       "      <td>0.329</td>\n",
       "    </tr>\n",
       "    <tr>\n",
       "      <th>2</th>\n",
       "      <td>1000</td>\n",
       "      <td>0.999</td>\n",
       "      <td>0.999</td>\n",
       "    </tr>\n",
       "  </tbody>\n",
       "</table>\n",
       "</div>"
      ],
      "text/plain": [
       "      n   chi2  fisher\n",
       "0    50  0.076   0.113\n",
       "1   100  0.260   0.329\n",
       "2  1000  0.999   0.999"
      ]
     },
     "execution_count": 33,
     "metadata": {},
     "output_type": "execute_result"
    }
   ],
   "source": [
    "results_df"
   ]
  },
  {
   "cell_type": "markdown",
   "metadata": {},
   "source": [
    "Widzimy, że moc testu Fishera jest większa niż moc testu chi-kwadrat Pearsona dla wszystkich wartości $n$, natomiast wraz ze wzrostem n obie moce testów zaczynają się zbiegać."
   ]
  },
  {
   "cell_type": "markdown",
   "metadata": {},
   "source": [
    "## Zadanie 10"
   ]
  },
  {
   "cell_type": "markdown",
   "metadata": {},
   "source": [
    "W tym zadaniu napiszemy funkcję, która dla danych z taliby dwudzielczej oblicza wartość poziomu krytycznego w teście chi-kwadrat Pearsona. \n",
    "\n",
    "Stopnie swobody dla testu chi-kwadrat są obliczane na podstawie wymiarów tabeli kontyngencji.\n",
    "\n",
    "Wartość krytyczna jest obliczana za pomocą funkcji $\\texttt{chi2.ppf}$, która zwraca kwantyl odwrotny funkcji dystrybuanty chi-kwadrat. Wartość ta jest obliczana dla $1-\\alpha$ oraz liczby stopni swobody.\n",
    "\n",
    "Zbadamy równiez hipotezę zerową: Czy zadowolenie z wynagrodzenia w pierwszym badanym okresie nie zależy od zajmowanego stanowiska?"
   ]
  },
  {
   "cell_type": "code",
   "execution_count": 34,
   "metadata": {},
   "outputs": [],
   "source": [
    "def critical_table_value(contingency_table, significance_level):\n",
    "    \"\"\"\n",
    "    Computes the critical table value for the chi-squared test.\n",
    "\n",
    "    Parameters:\n",
    "    contingency_table (array-like): The contingency table.\n",
    "    significance_level (float): The significance level for the test.\n",
    "\n",
    "    Returns:\n",
    "    float: The critical table value for the chi-squared test.\n",
    "    \"\"\"\n",
    "    dof = (contingency_table.shape[0] - 1) * (contingency_table.shape[1] - 1)\n",
    "    critical_value = scipy.stats.chi2.ppf(1 - significance_level, dof)\n",
    "    return critical_value"
   ]
  },
  {
   "cell_type": "markdown",
   "metadata": {},
   "source": [
    "Krytyczna wartość statystyki testu chi-kwadrat:"
   ]
  },
  {
   "cell_type": "code",
   "execution_count": 35,
   "metadata": {},
   "outputs": [
    {
     "data": {
      "text/plain": [
       "7.814727903251179"
      ]
     },
     "execution_count": 35,
     "metadata": {},
     "output_type": "execute_result"
    }
   ],
   "source": [
    "alpha = 0.05\n",
    "df10 = pd.crosstab(df['PYT_2'], df['CZY_KIER'])\n",
    "\n",
    "critical_value = critical_table_value(df10, alpha)\n",
    "critical_value"
   ]
  },
  {
   "cell_type": "markdown",
   "metadata": {},
   "source": [
    "Wartość statystyki testu chi-kwadrat:"
   ]
  },
  {
   "cell_type": "code",
   "execution_count": 37,
   "metadata": {},
   "outputs": [
    {
     "data": {
      "text/plain": [
       "0.0043970813557677796"
      ]
     },
     "execution_count": 37,
     "metadata": {},
     "output_type": "execute_result"
    }
   ],
   "source": [
    "chi2, p_value, dof, expected = scipy.stats.chi2_contingency(df10)\n",
    "p_value"
   ]
  },
  {
   "cell_type": "markdown",
   "metadata": {},
   "source": [
    "Nie ma podstaw do odrzucenia hipotezy zerowej, gdyż wartość statystyki testu jest mniejsza od wartości krytycznej."
   ]
  },
  {
   "cell_type": "markdown",
   "metadata": {},
   "source": [
    "# Część IV"
   ]
  },
  {
   "cell_type": "markdown",
   "metadata": {},
   "source": [
    "## Zadanie 11"
   ]
  },
  {
   "cell_type": "markdown",
   "metadata": {},
   "source": [
    "Celem zadania jest zbadanie związku między paleniem papierosów, a śmiercią z powodu raka płuc oraz związku między paleniem papierosów, a śmiercią z powodu choroby niedokrwiennej serca na podstawie danych z 20-letniego badania przeprowadzonego wśród brytyjskich mężczyzn. Obliczymy różnice proporcji, ryzyko względne oraz iloraz szans na podstawie wzorów z wykładu."
   ]
  },
  {
   "cell_type": "code",
   "execution_count": 43,
   "metadata": {},
   "outputs": [],
   "source": [
    "cancer_lungs_smoked=0.0014\n",
    "cancer_lungs_non_smoked=0.0001\n",
    "\n",
    "cancer_heart_smoked=0.00669\n",
    "cancer_heart_non_smoked=0.00413"
   ]
  },
  {
   "cell_type": "markdown",
   "metadata": {},
   "source": [
    "Różnica proporcji dla śmierci z powodu raka płuc:"
   ]
  },
  {
   "cell_type": "code",
   "execution_count": 44,
   "metadata": {},
   "outputs": [
    {
     "data": {
      "text/plain": [
       "0.0013"
      ]
     },
     "execution_count": 44,
     "metadata": {},
     "output_type": "execute_result"
    }
   ],
   "source": [
    "cancer_lungs_smoked-cancer_lungs_non_smoked"
   ]
  },
  {
   "cell_type": "markdown",
   "metadata": {},
   "source": [
    "Różnica proporcji dla śmierci z powodu choroby serca:"
   ]
  },
  {
   "cell_type": "code",
   "execution_count": 45,
   "metadata": {},
   "outputs": [
    {
     "data": {
      "text/plain": [
       "0.0025599999999999998"
      ]
     },
     "execution_count": 45,
     "metadata": {},
     "output_type": "execute_result"
    }
   ],
   "source": [
    "cancer_heart_smoked-cancer_heart_non_smoked"
   ]
  },
  {
   "cell_type": "markdown",
   "metadata": {},
   "source": [
    "Ryzyko względne dla śmierci z powodu raka płuc:"
   ]
  },
  {
   "cell_type": "code",
   "execution_count": 46,
   "metadata": {},
   "outputs": [
    {
     "data": {
      "text/plain": [
       "14.0"
      ]
     },
     "execution_count": 46,
     "metadata": {},
     "output_type": "execute_result"
    }
   ],
   "source": [
    "cancer_lungs_smoked/cancer_lungs_non_smoked"
   ]
  },
  {
   "cell_type": "markdown",
   "metadata": {},
   "source": [
    "Ryzyko względne dla śmierci z powodu choroby serca:"
   ]
  },
  {
   "cell_type": "code",
   "execution_count": 47,
   "metadata": {},
   "outputs": [
    {
     "data": {
      "text/plain": [
       "1.6198547215496368"
      ]
     },
     "execution_count": 47,
     "metadata": {},
     "output_type": "execute_result"
    }
   ],
   "source": [
    "cancer_heart_smoked/cancer_heart_non_smoked"
   ]
  },
  {
   "cell_type": "markdown",
   "metadata": {},
   "source": [
    "Iloraz szans dla śmierci z powodu raka płuc:"
   ]
  },
  {
   "cell_type": "code",
   "execution_count": 48,
   "metadata": {},
   "outputs": [
    {
     "data": {
      "text/plain": [
       "14.01822551572201"
      ]
     },
     "execution_count": 48,
     "metadata": {},
     "output_type": "execute_result"
    }
   ],
   "source": [
    "omega_1=cancer_lungs_smoked/(1-cancer_lungs_smoked)\n",
    "omega_2=cancer_lungs_non_smoked/(1-cancer_lungs_non_smoked)\n",
    "\n",
    "omega_1/omega_2"
   ]
  },
  {
   "cell_type": "markdown",
   "metadata": {},
   "source": [
    "Iloraz szans dla śmierci z powodu choroby serca:"
   ]
  },
  {
   "cell_type": "code",
   "execution_count": 49,
   "metadata": {},
   "outputs": [
    {
     "data": {
      "text/plain": [
       "1.6240294787625582"
      ]
     },
     "execution_count": 49,
     "metadata": {},
     "output_type": "execute_result"
    }
   ],
   "source": [
    "omega_3=cancer_heart_smoked/(1-cancer_heart_smoked)\n",
    "omega_4=cancer_heart_non_smoked/(1-cancer_heart_non_smoked)\n",
    "\n",
    "omega_3/omega_4"
   ]
  },
  {
   "cell_type": "markdown",
   "metadata": {},
   "source": [
    "Możemy zauważyć, że palenie:\n",
    "\n",
    "- zwiększa roczny odsetek zgonów z powodu raka płuc o 0.13%,\n",
    "- zwiększa roczny odsetek zgonów z powodu choroby niedokrwiennej serca o 0.26%,\n",
    "- prowadzi do 14 razy większego ryzyka śmierci z powodu raka płuc,\n",
    "- ma około 1.62 razy większe ryzyko śmierci z powodu choroby niedokrwiennej serca niż niepalenie,\n",
    "- zwiększa około 14 razy szanse na zgon z powodu raka płuc,\n",
    "- zwiększa około 1.62 razy szanse na zgon z powodu choroby niedokrwiennej serca."
   ]
  },
  {
   "cell_type": "markdown",
   "metadata": {},
   "source": [
    "**Wnioski:**\n",
    "\n",
    "Związek między paleniem papierosów a śmiercią z powodu raka płuc jest znacznie silniejszy niż związek między paleniem papierosów a śmiercią z powodu choroby niedokrwiennej serca. Wskaźniki ryzyka względnego i ilorazu szans dla raka płuc są znacznie wyższe niż dla choroby niedokrwiennej serca, co sugeruje, że palenie ma silniejszy wpływ na ryzyko zachorowania na raka płuc."
   ]
  },
  {
   "cell_type": "markdown",
   "metadata": {},
   "source": [
    "## Zadanie 12"
   ]
  },
  {
   "cell_type": "markdown",
   "metadata": {},
   "source": [
    "W tym zadaniu obliczymy zadane prawdopodobieństwa na podstawie danych dotyczących śmiertelności w wypadkach samochodowych na Florydzie w 2008 roku. Następnie wyznaczymy różnicę proporcji, ryzyko względne, iloraz szans oraz zinterpretujemy otrzymane wyniki."
   ]
  },
  {
   "cell_type": "code",
   "execution_count": 50,
   "metadata": {},
   "outputs": [],
   "source": [
    "dead_without_belt=1085\n",
    "dead_with_belt=703\n",
    "\n",
    "alive_without_belt=55623\n",
    "alive_with_belt=441239"
   ]
  },
  {
   "cell_type": "code",
   "execution_count": 51,
   "metadata": {},
   "outputs": [],
   "source": [
    "sum_belt=dead_with_belt+alive_with_belt\n",
    "sum_without_belt=dead_without_belt+alive_without_belt\n",
    "sum_dead=dead_with_belt+dead_without_belt\n",
    "sum_alive=alive_with_belt+alive_without_belt"
   ]
  },
  {
   "cell_type": "markdown",
   "metadata": {},
   "source": [
    "Prawdopodobieństwo wypadku śmiertelnego pod warunkiem, że bez pasów:\n",
    "\n",
    "$$ P(\\text{śmierć} \\mid \\text{bez pasów}) = \\frac{\\text{liczba śmiertelnych wypadków bez pasów}}{\\text{liczba wszystkich wypadków bez pasów}}$$"
   ]
  },
  {
   "cell_type": "code",
   "execution_count": 52,
   "metadata": {},
   "outputs": [
    {
     "data": {
      "text/plain": [
       "0.019133102913169216"
      ]
     },
     "execution_count": 52,
     "metadata": {},
     "output_type": "execute_result"
    }
   ],
   "source": [
    "p_dead_without_belt=dead_without_belt/sum_without_belt\n",
    "\n",
    "p_dead_without_belt"
   ]
  },
  {
   "cell_type": "markdown",
   "metadata": {},
   "source": [
    "Prawdopodobieństwo wypadku śmiertelnego pod warunkiem, że z pasami:\n",
    "\n",
    "$$ P(\\text{śmierć} \\mid \\text{z pasami}) = \\frac{\\text{liczba śmiertelnych wypadków z pasami}}{\\text{liczba wszystkich wypadków z pasami}}$$"
   ]
  },
  {
   "cell_type": "code",
   "execution_count": 53,
   "metadata": {},
   "outputs": [
    {
     "data": {
      "text/plain": [
       "0.0015907064727950727"
      ]
     },
     "execution_count": 53,
     "metadata": {},
     "output_type": "execute_result"
    }
   ],
   "source": [
    "p_dead_with_belt=dead_with_belt/sum_belt\n",
    "\n",
    "p_dead_with_belt"
   ]
  },
  {
   "cell_type": "markdown",
   "metadata": {},
   "source": [
    "Prawdopodobieństwo użycia pasa bezpieczeństwa pod warunkiem śmierci w wypadku:\n",
    "\n",
    "$$P(\\text{pasy} \\mid \\text{śmierć}) = \\frac{\\text{liczba śmiertelnych wypadków z pasami}}{\\text{liczba wszystkich śmiertelnych wypadków}}$$"
   ]
  },
  {
   "cell_type": "code",
   "execution_count": 54,
   "metadata": {},
   "outputs": [
    {
     "data": {
      "text/plain": [
       "0.3931767337807606"
      ]
     },
     "execution_count": 54,
     "metadata": {},
     "output_type": "execute_result"
    }
   ],
   "source": [
    "p_with_belts_dead=dead_with_belt/sum_dead\n",
    "\n",
    "p_with_belts_dead"
   ]
  },
  {
   "cell_type": "markdown",
   "metadata": {},
   "source": [
    "Prawdopodobieństwo użycia pasa bezpieczeństwa pod warunkiem przeżycia w wypadku:\n",
    "\n",
    "$$P(\\text{pasy} \\mid \\text{przeżycie}) = \\frac{\\text{liczba nieśmiertelnych wypadków z pasami}}{\\text{liczba wszystkich nieśmiertelnych wypadków}}$$"
   ]
  },
  {
   "cell_type": "code",
   "execution_count": 55,
   "metadata": {},
   "outputs": [
    {
     "data": {
      "text/plain": [
       "0.8880514106532599"
      ]
     },
     "execution_count": 55,
     "metadata": {},
     "output_type": "execute_result"
    }
   ],
   "source": [
    "p_with_belts_alive=alive_with_belt/sum_alive\n",
    "\n",
    "p_with_belts_alive"
   ]
  },
  {
   "cell_type": "markdown",
   "metadata": {},
   "source": [
    "Możemy stwierdzić, że użycie pasa bezpieczeństwa znacząco zmniejsza ryzyko śmierci w wypadkach samochodowych na Florydzie w 2008 roku, gdyż:\n",
    "\n",
    "- prawdopodobieństwo wypadku śmiertelnego pod warunkiem zapięcia pasów jest mniejsze niż prawdopodobieństwo wypadku śmiertelnego pod warunkiem, jazdy bez pasów,\n",
    "- prawdopodobieństwo użycia pasa bezpieczeństwa pod warunkiem śmierci w wypadku jest mniejsze niż prawdopodobieństwo użycia pasa bezpieczeństwa pod warunkiem przeżycia w wypadku."
   ]
  },
  {
   "cell_type": "markdown",
   "metadata": {},
   "source": [
    "Przyjmujemy, że bjaśniana zmienna to śmiertalność."
   ]
  },
  {
   "cell_type": "markdown",
   "metadata": {},
   "source": [
    "Różnica proporcji dla śmiertelnego:"
   ]
  },
  {
   "cell_type": "code",
   "execution_count": 56,
   "metadata": {},
   "outputs": [
    {
     "data": {
      "text/plain": [
       "0.017542396440374145"
      ]
     },
     "execution_count": 56,
     "metadata": {},
     "output_type": "execute_result"
    }
   ],
   "source": [
    "p_dead_without_belt-p_dead_with_belt"
   ]
  },
  {
   "cell_type": "markdown",
   "metadata": {},
   "source": [
    "Ryzyko względne dla śmiertelnego:"
   ]
  },
  {
   "cell_type": "code",
   "execution_count": 57,
   "metadata": {},
   "outputs": [
    {
     "data": {
      "text/plain": [
       "12.028053723544565"
      ]
     },
     "execution_count": 57,
     "metadata": {},
     "output_type": "execute_result"
    }
   ],
   "source": [
    "p_dead_without_belt/p_dead_with_belt"
   ]
  },
  {
   "cell_type": "markdown",
   "metadata": {},
   "source": [
    "Iloraz szans dla śmiertelnego:"
   ]
  },
  {
   "cell_type": "code",
   "execution_count": 58,
   "metadata": {},
   "outputs": [
    {
     "data": {
      "text/plain": [
       "12.243170461046065"
      ]
     },
     "execution_count": 58,
     "metadata": {},
     "output_type": "execute_result"
    }
   ],
   "source": [
    "(dead_without_belt*alive_with_belt)/(dead_with_belt*alive_without_belt)"
   ]
  },
  {
   "cell_type": "markdown",
   "metadata": {},
   "source": [
    "Możemy zauważyć, że:\n",
    "\n",
    "- różnica w prawdopodobieństwie śmierci między osobami, które nie używały pasa bezpieczeństwa, a tymi, które go używały, wynosi około 1.75%,\n",
    "- ryzyko śmierci w wypadku dla osób nieużywających pasa bezpieczeństwa jest ponad 12 razy większe niż dla osób używających pasa,\n",
    "- szansa na śmiertelny wypadek jest ponad 12 razy większa dla osób, które nie używają pasa bezpieczeństwa, w porównaniu do tych, które go używają,\n",
    "- iloraz szans (12.24) oraz ryzyko względne (12.24) są do siebie bardzo zbliżone, ponieważ śmiertelne wypadki samochodowe są stosunkowo rzadkimi zdarzeniami, a różnice między stosunkiem szans a stosunkiem prawdopodobieństw są minimalne przy niskich wartościach prawdopodobieństw."
   ]
  },
  {
   "cell_type": "markdown",
   "metadata": {},
   "source": [
    "**Wnioski:**\n",
    "\n",
    "Dane wyraźnie pokazują, że używanie pasów bezpieczeństwa jest skutecznym środkiem ochrony w przypadku wypadków samochodowych."
   ]
  },
  {
   "cell_type": "markdown",
   "metadata": {},
   "source": [
    "# Część V"
   ]
  },
  {
   "cell_type": "markdown",
   "metadata": {},
   "source": [
    "## Zadanie 13"
   ]
  },
  {
   "cell_type": "code",
   "execution_count": 59,
   "metadata": {},
   "outputs": [
    {
     "data": {
      "text/html": [
       "<div>\n",
       "<style scoped>\n",
       "    .dataframe tbody tr th:only-of-type {\n",
       "        vertical-align: middle;\n",
       "    }\n",
       "\n",
       "    .dataframe tbody tr th {\n",
       "        vertical-align: top;\n",
       "    }\n",
       "\n",
       "    .dataframe thead th {\n",
       "        text-align: right;\n",
       "    }\n",
       "</style>\n",
       "<table border=\"1\" class=\"dataframe\">\n",
       "  <thead>\n",
       "    <tr style=\"text-align: right;\">\n",
       "      <th></th>\n",
       "      <th>DZIAŁ</th>\n",
       "      <th>STAŻ</th>\n",
       "      <th>CZY_KIER</th>\n",
       "      <th>PYT_1</th>\n",
       "      <th>PYT_2</th>\n",
       "      <th>PYT_3</th>\n",
       "      <th>PŁEĆ</th>\n",
       "      <th>WIEK</th>\n",
       "      <th>WIEK_KAT</th>\n",
       "      <th>CZY_ZADOW</th>\n",
       "    </tr>\n",
       "  </thead>\n",
       "  <tbody>\n",
       "    <tr>\n",
       "      <th>0</th>\n",
       "      <td>IT</td>\n",
       "      <td>2</td>\n",
       "      <td>Nie</td>\n",
       "      <td>1</td>\n",
       "      <td>-2</td>\n",
       "      <td>1</td>\n",
       "      <td>M</td>\n",
       "      <td>64</td>\n",
       "      <td>powyzej 55</td>\n",
       "      <td>NIE</td>\n",
       "    </tr>\n",
       "    <tr>\n",
       "      <th>1</th>\n",
       "      <td>IT</td>\n",
       "      <td>2</td>\n",
       "      <td>Nie</td>\n",
       "      <td>0</td>\n",
       "      <td>-2</td>\n",
       "      <td>-2</td>\n",
       "      <td>M</td>\n",
       "      <td>67</td>\n",
       "      <td>powyzej 55</td>\n",
       "      <td>NIE</td>\n",
       "    </tr>\n",
       "    <tr>\n",
       "      <th>2</th>\n",
       "      <td>IT</td>\n",
       "      <td>2</td>\n",
       "      <td>Nie</td>\n",
       "      <td>1</td>\n",
       "      <td>2</td>\n",
       "      <td>2</td>\n",
       "      <td>M</td>\n",
       "      <td>65</td>\n",
       "      <td>powyzej 55</td>\n",
       "      <td>TAK</td>\n",
       "    </tr>\n",
       "    <tr>\n",
       "      <th>3</th>\n",
       "      <td>IT</td>\n",
       "      <td>2</td>\n",
       "      <td>Nie</td>\n",
       "      <td>-1</td>\n",
       "      <td>-2</td>\n",
       "      <td>-2</td>\n",
       "      <td>K</td>\n",
       "      <td>68</td>\n",
       "      <td>powyzej 55</td>\n",
       "      <td>NIE</td>\n",
       "    </tr>\n",
       "    <tr>\n",
       "      <th>4</th>\n",
       "      <td>IT</td>\n",
       "      <td>3</td>\n",
       "      <td>Tak</td>\n",
       "      <td>1</td>\n",
       "      <td>2</td>\n",
       "      <td>-1</td>\n",
       "      <td>K</td>\n",
       "      <td>65</td>\n",
       "      <td>powyzej 55</td>\n",
       "      <td>TAK</td>\n",
       "    </tr>\n",
       "    <tr>\n",
       "      <th>...</th>\n",
       "      <td>...</td>\n",
       "      <td>...</td>\n",
       "      <td>...</td>\n",
       "      <td>...</td>\n",
       "      <td>...</td>\n",
       "      <td>...</td>\n",
       "      <td>...</td>\n",
       "      <td>...</td>\n",
       "      <td>...</td>\n",
       "      <td>...</td>\n",
       "    </tr>\n",
       "    <tr>\n",
       "      <th>195</th>\n",
       "      <td>HR</td>\n",
       "      <td>2</td>\n",
       "      <td>Nie</td>\n",
       "      <td>1</td>\n",
       "      <td>2</td>\n",
       "      <td>2</td>\n",
       "      <td>M</td>\n",
       "      <td>42</td>\n",
       "      <td>36-45</td>\n",
       "      <td>TAK</td>\n",
       "    </tr>\n",
       "    <tr>\n",
       "      <th>196</th>\n",
       "      <td>HR</td>\n",
       "      <td>2</td>\n",
       "      <td>Nie</td>\n",
       "      <td>1</td>\n",
       "      <td>-1</td>\n",
       "      <td>-1</td>\n",
       "      <td>K</td>\n",
       "      <td>35</td>\n",
       "      <td>do 35 lat</td>\n",
       "      <td>NIE</td>\n",
       "    </tr>\n",
       "    <tr>\n",
       "      <th>197</th>\n",
       "      <td>HR</td>\n",
       "      <td>2</td>\n",
       "      <td>Nie</td>\n",
       "      <td>-1</td>\n",
       "      <td>-2</td>\n",
       "      <td>-2</td>\n",
       "      <td>K</td>\n",
       "      <td>39</td>\n",
       "      <td>36-45</td>\n",
       "      <td>NIE</td>\n",
       "    </tr>\n",
       "    <tr>\n",
       "      <th>198</th>\n",
       "      <td>HR</td>\n",
       "      <td>2</td>\n",
       "      <td>Nie</td>\n",
       "      <td>1</td>\n",
       "      <td>2</td>\n",
       "      <td>1</td>\n",
       "      <td>K</td>\n",
       "      <td>48</td>\n",
       "      <td>46-55</td>\n",
       "      <td>TAK</td>\n",
       "    </tr>\n",
       "    <tr>\n",
       "      <th>199</th>\n",
       "      <td>HR</td>\n",
       "      <td>2</td>\n",
       "      <td>Nie</td>\n",
       "      <td>1</td>\n",
       "      <td>2</td>\n",
       "      <td>2</td>\n",
       "      <td>K</td>\n",
       "      <td>42</td>\n",
       "      <td>36-45</td>\n",
       "      <td>TAK</td>\n",
       "    </tr>\n",
       "  </tbody>\n",
       "</table>\n",
       "<p>200 rows × 10 columns</p>\n",
       "</div>"
      ],
      "text/plain": [
       "    DZIAŁ  STAŻ CZY_KIER  PYT_1  PYT_2  PYT_3 PŁEĆ  WIEK    WIEK_KAT CZY_ZADOW\n",
       "0      IT     2      Nie      1     -2      1    M    64  powyzej 55       NIE\n",
       "1      IT     2      Nie      0     -2     -2    M    67  powyzej 55       NIE\n",
       "2      IT     2      Nie      1      2      2    M    65  powyzej 55       TAK\n",
       "3      IT     2      Nie     -1     -2     -2    K    68  powyzej 55       NIE\n",
       "4      IT     3      Tak      1      2     -1    K    65  powyzej 55       TAK\n",
       "..    ...   ...      ...    ...    ...    ...  ...   ...         ...       ...\n",
       "195    HR     2      Nie      1      2      2    M    42       36-45       TAK\n",
       "196    HR     2      Nie      1     -1     -1    K    35   do 35 lat       NIE\n",
       "197    HR     2      Nie     -1     -2     -2    K    39       36-45       NIE\n",
       "198    HR     2      Nie      1      2      1    K    48       46-55       TAK\n",
       "199    HR     2      Nie      1      2      2    K    42       36-45       TAK\n",
       "\n",
       "[200 rows x 10 columns]"
      ]
     },
     "execution_count": 59,
     "metadata": {},
     "output_type": "execute_result"
    }
   ],
   "source": [
    "df['CZY_ZADOW'] = df['PYT_2'].map({2: 'TAK', 1: 'TAK', -1: 'NIE', -2: 'NIE'})\n",
    "df"
   ]
  },
  {
   "cell_type": "markdown",
   "metadata": {},
   "source": [
    "W tym zadaniu obliczymy współczynnik tau Kendalla (τ) dla trzech par zmiennych:\n",
    "\n",
    "- zadowolenie z wynagrodzenia w pierwszym badanym okresie i zajmowane stanowisko,\n",
    "- zadowolenie z wynagrodzenia w pierwszym badanym okresie i staż pracy,\n",
    "- zajmowane stanowisko i staż pracy.\n",
    "\n",
    "Do obliczenia współczynników τ Kendalla używamy funkcji kendalltau z biblioteki scipy.stats. Współczynnik τ Kendalla mierzy siłę i kierunek monotonicznej zależności między dwiema zmiennymi uporządkowanymi rangowo."
   ]
  },
  {
   "cell_type": "code",
   "execution_count": 60,
   "metadata": {},
   "outputs": [
    {
     "name": "stdout",
     "output_type": "stream",
     "text": [
      "Zadowolenie z wynagrodzenia w I badanym okresie i zajmowane stanowisko: 0.020228202533449573\n"
     ]
    }
   ],
   "source": [
    "tau1, pval1 = scipy.stats.kendalltau(df['CZY_ZADOW'], df['CZY_KIER'])\n",
    "print('Zadowolenie z wynagrodzenia w I badanym okresie i zajmowane stanowisko:', tau1)"
   ]
  },
  {
   "cell_type": "code",
   "execution_count": 61,
   "metadata": {},
   "outputs": [
    {
     "name": "stdout",
     "output_type": "stream",
     "text": [
      "Zadowolenie z wynagrodzenia w I badanym okresie i staż pracy: 0.0694310183298355\n"
     ]
    }
   ],
   "source": [
    "tau2, pval2 = scipy.stats.kendalltau(df['CZY_ZADOW'], df['STAŻ'])\n",
    "print('Zadowolenie z wynagrodzenia w I badanym okresie i staż pracy:', tau2)"
   ]
  },
  {
   "cell_type": "code",
   "execution_count": 62,
   "metadata": {},
   "outputs": [
    {
     "name": "stdout",
     "output_type": "stream",
     "text": [
      "Zajmowane stanowisko i staż pracy: 0.28161663064776427\n"
     ]
    }
   ],
   "source": [
    "tau3, pval3 = scipy.stats.kendalltau(df['CZY_KIER'], df['STAŻ'])\n",
    "print('Zajmowane stanowisko i staż pracy:', tau3)"
   ]
  },
  {
   "cell_type": "markdown",
   "metadata": {},
   "source": [
    "Możemy stwierdzić, że:\n",
    "\n",
    "- mamy słabą dodatnią zależność między zadowoleniem z wynagrodzenia a zajmowanym stanowiskiem $(τ\\approx0.02)$,\n",
    "- istnieje słaba pozytywną zależność między zadowoleniem z wynagrodzenia a stażem pracy $(τ\\approx0.02)$,\n",
    "- Istnieje umiarkowana pozytywna zależność między zajmowanym stanowiskiem a stażem pracy $(τ\\approx0.28)$."
   ]
  },
  {
   "cell_type": "markdown",
   "metadata": {},
   "source": [
    "**Wnioski:**\n",
    "\n",
    "- między zadowoleniem z wynagrodzenia a zajmowanym stanowiskiem oraz między zadowoleniem z wynagrodzenia a stażem pracy nie ma istotnych zależności (tau bliskie zeru),\n",
    "- między zajmowanym stanowiskiem a stażem pracy, otrzymaliśmy dodatnie, dosyć wysokie τ, co oznacza, że dłuższy staż pracy jest związany z wyższymi stanowiskami."
   ]
  },
  {
   "cell_type": "markdown",
   "metadata": {},
   "source": [
    "## Zadanie 14"
   ]
  },
  {
   "cell_type": "markdown",
   "metadata": {},
   "source": [
    "W zadaniu 14 przeprowadzimy analizę korespondencji dla zmiennych **STAŻ** i **PYT_2**, które dotyczą zadowolenia z wynagrodzenia i stażu pracy, oraz zinterpretujemy uzyskane wyniki.\n",
    "\n",
    "Nasze zmienne opisują:\n",
    "- **STAŻ**: długość stażu pracy\n",
    "\n",
    "- **PYT_2**: Pytanie: \"Jak bardzo zgadzasz się ze stwierdzeniem, że twoje wynagrodzenie adekwatnie odzwierciedla zakres wykonywanych przez ciebie obowiązków?\" Zmienna przyjmuje wartości:\n",
    "  - -2: zdecydowanie się nie zgadzam\n",
    "  - -1: nie zgadzam się\n",
    "  - 1: zgadzam się\n",
    "  - 2: zdecydowanie się zgadzam\n",
    "\n",
    "Podczas analizy przyjmiemy, że kolumnami typu **Principal** będą wartości zmiennej **STAŻ**, a wierszami typu **Standard** będą wartości zmiennej **PYT_2**. "
   ]
  },
  {
   "cell_type": "code",
   "execution_count": 63,
   "metadata": {},
   "outputs": [
    {
     "data": {
      "text/html": [
       "<div>\n",
       "<style scoped>\n",
       "    .dataframe tbody tr th:only-of-type {\n",
       "        vertical-align: middle;\n",
       "    }\n",
       "\n",
       "    .dataframe tbody tr th {\n",
       "        vertical-align: top;\n",
       "    }\n",
       "\n",
       "    .dataframe thead th {\n",
       "        text-align: right;\n",
       "    }\n",
       "</style>\n",
       "<table border=\"1\" class=\"dataframe\">\n",
       "  <thead>\n",
       "    <tr style=\"text-align: right;\">\n",
       "      <th>STAŻ</th>\n",
       "      <th>1</th>\n",
       "      <th>2</th>\n",
       "      <th>3</th>\n",
       "    </tr>\n",
       "    <tr>\n",
       "      <th>PYT_2</th>\n",
       "      <th></th>\n",
       "      <th></th>\n",
       "      <th></th>\n",
       "    </tr>\n",
       "  </thead>\n",
       "  <tbody>\n",
       "    <tr>\n",
       "      <th>-2</th>\n",
       "      <td>20</td>\n",
       "      <td>45</td>\n",
       "      <td>9</td>\n",
       "    </tr>\n",
       "    <tr>\n",
       "      <th>-1</th>\n",
       "      <td>3</td>\n",
       "      <td>17</td>\n",
       "      <td>0</td>\n",
       "    </tr>\n",
       "    <tr>\n",
       "      <th>1</th>\n",
       "      <td>0</td>\n",
       "      <td>0</td>\n",
       "      <td>2</td>\n",
       "    </tr>\n",
       "    <tr>\n",
       "      <th>2</th>\n",
       "      <td>18</td>\n",
       "      <td>78</td>\n",
       "      <td>8</td>\n",
       "    </tr>\n",
       "  </tbody>\n",
       "</table>\n",
       "</div>"
      ],
      "text/plain": [
       "STAŻ    1   2  3\n",
       "PYT_2           \n",
       "-2     20  45  9\n",
       "-1      3  17  0\n",
       " 1      0   0  2\n",
       " 2     18  78  8"
      ]
     },
     "execution_count": 63,
     "metadata": {},
     "output_type": "execute_result"
    }
   ],
   "source": [
    "contingency_table = pd.crosstab(df['PYT_2'], df['STAŻ'])\n",
    "\n",
    "contingency_table"
   ]
  },
  {
   "cell_type": "code",
   "execution_count": 64,
   "metadata": {},
   "outputs": [
    {
     "data": {
      "image/png": "[encoded data removed]",
      "text/plain": [
       "<Figure size 1000x800 with 1 Axes>"
      ]
     },
     "metadata": {},
     "output_type": "display_data"
    }
   ],
   "source": [
    "N_matrix = contingency_table.to_numpy()\n",
    "\n",
    "row_sums = np.sum(N_matrix, axis=1)\n",
    "column_sums = np.sum(N_matrix, axis=0)\n",
    "total_sum = np.sum(N_matrix)\n",
    "\n",
    "row_proportions = row_sums / total_sum\n",
    "column_proportions = column_sums / total_sum\n",
    "Dr_matrix = np.diag(row_proportions)\n",
    "Dc_matrix = np.diag(column_proportions)\n",
    "P_matrix = N_matrix / total_sum\n",
    "\n",
    "A_matrix = np.linalg.inv(Dr_matrix)**0.5 @ (P_matrix - np.outer(row_proportions, column_proportions)) @ np.linalg.inv(Dc_matrix)**0.5\n",
    "\n",
    "U_matrix, singular_values, VT_matrix = svd(A_matrix, full_matrices=False)\n",
    "Sigma_matrix = diagsvd(singular_values, len(singular_values), len(singular_values))\n",
    "F_matrix = np.linalg.inv(Dr_matrix)**0.5 @ U_matrix @ Sigma_matrix\n",
    "G_matrix = np.linalg.inv(Dc_matrix)**0.5 @ VT_matrix.T\n",
    "eigen_values = singular_values**2\n",
    "\n",
    "plt.figure(figsize=(10, 8))\n",
    "plt.scatter(G_matrix[:, 0], G_matrix[:, 1], marker='o', label='STAŻ', color='blue', s=100, edgecolor='w', linewidth=1.5)\n",
    "plt.scatter(F_matrix[:, 0], F_matrix[:, 1], marker='^', label='PYT_2', color='red', s=100, edgecolor='w', linewidth=1.5)\n",
    "\n",
    "for x, y, label in zip(F_matrix[:, 0], F_matrix[:, 1], contingency_table.index):\n",
    "    plt.text(x + 0.04, y, label, color='red', fontsize=12, weight='bold')\n",
    "for x, y, label in zip(G_matrix[:, 0], G_matrix[:, 1], contingency_table.columns):\n",
    "    plt.text(x - 0.04, y, label, color='blue', fontsize=12, weight='bold')\n",
    "\n",
    "plt.axhline(0, color='black', linestyle='--', linewidth=0.8)\n",
    "plt.axvline(0, color='black', linestyle='--', linewidth=0.8)\n",
    "\n",
    "plt.title('Analiza korespondencji', fontsize=16)\n",
    "plt.xlabel('Pierwsza składowa', fontsize=14)\n",
    "plt.ylabel('Druga składowa', fontsize=14)\n",
    "plt.legend(loc='upper right', fontsize=12)\n",
    "plt.grid(True)\n",
    "plt.tight_layout()\n",
    "plt.show()"
   ]
  },
  {
   "cell_type": "markdown",
   "metadata": {},
   "source": [
    "Odległości chi-kwadrat między punktami na wykresie wskazują na siłę związku między kategoriami zmiennych. Im bliżej siebie znajdują się punkty, tym silniejsza jest zależność między kategoriami.\n",
    "\n",
    "Na podstawie naszego wykresu możemy stwierdzić, że\n",
    "\n",
    "- **STAŻ = 1** znajduje się blisko **PYT_2 = 2** (zdecydowanie się zgadzam), co sugeruje, że osoby z rocznym stażem pracy częściej zdecydowanie zgadzają się z tym, że ich wynagrodzenie jest adekwatne do zakresu obowiązków.\n",
    "\n",
    "- **STAŻ = 2** znajduje się blisko **PYT_2 = -2** (zdecydowanie się nie zgadzam), co oznacza, że osoby z dwuletnim stażem pracy częściej zdecydowanie nie zgadzają się z tym stwierdzeniem.\n",
    "\n",
    "- **STAŻ = 3** znajduje się w pobliżu **PYT_2 = 1** (zgadzam się) oraz **PYT_2 = -1** (nie zgadzam się), ale bliżej **PYT_2 = 1**, co sugeruje, że osoby z trzyletnim stażem mają mieszane uczucia, ale są bardziej skłonne zgodzić się, że wynagrodzenie jest adekwatne.\n",
    "\n"
   ]
  },
  {
   "cell_type": "markdown",
   "metadata": {},
   "source": [
    "# Zadania dodatkowe"
   ]
  },
  {
   "cell_type": "markdown",
   "metadata": {},
   "source": [
    "## Zadanie 2"
   ]
  },
  {
   "cell_type": "markdown",
   "metadata": {},
   "source": [
    "Chcemy pokazać, że\n",
    "$$ | RR - 1 | < |OR - 1|$$\n",
    "\n",
    "Wiemy, że:\n",
    "\n",
    "$$ RR = \\frac{\\pi_1}{\\pi_2}$$\n",
    "\n",
    "$$ OR = \\frac{\\pi_1(1-\\pi_1)}{\\pi_2(1-\\pi_2)}$$\n",
    "\n",
    "Podstawmy do nierówności:\n",
    "\n",
    "$$ \\left| \\frac{\\pi_1}{\\pi_2} - 1 \\right| < \\left| \\frac{\\pi_1(1-\\pi_1)}{\\pi_2(1-\\pi_2)} - 1 \\right|$$"
   ]
  }
 ],
 "metadata": {
  "kernelspec": {
   "display_name": "Python 3",
   "language": "python",
   "name": "python3"
  },
  "language_info": {
   "codemirror_mode": {
    "name": "ipython",
    "version": 3
   },
   "file_extension": ".py",
   "mimetype": "text/x-python",
   "name": "python",
   "nbconvert_exporter": "python",
   "pygments_lexer": "ipython3",
   "version": "3.11.5"
  }
 },
 "nbformat": 4,
 "nbformat_minor": 2
}
