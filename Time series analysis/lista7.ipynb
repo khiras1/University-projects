{
 "cells": [
  {
   "cell_type": "code",
   "execution_count": 10,
   "metadata": {},
   "outputs": [],
   "source": [
    "import numpy as np\n",
    "import seaborn as sns\n",
    "import math\n",
    "import matplotlib.pyplot as plt\n",
    "import seaborn as sns\n",
    "from scipy.interpolate import interp1d\n",
    "import scipy.stats as stats\n",
    "from statsmodels.tsa.stattools import acf\n",
    "import pandas as pd\n",
    "import scipy.optimize\n",
    "from statsmodels.tsa.arima_process import ArmaProcess\n",
    "import pandas as pd\n",
    "sns.set()"
   ]
  },
  {
   "cell_type": "code",
   "execution_count": 19,
   "metadata": {},
   "outputs": [],
   "source": [
    "def yule_walker_estimation(g_0, g_1, g_2):\n",
    "    A = np.array([[g_0, g_1], [g_1, g_0]])\n",
    "    b = np.array([g_1, g_2])\n",
    "    phi = np.linalg.solve(A, b)\n",
    "    return phi[0], phi[1]"
   ]
  },
  {
   "cell_type": "code",
   "execution_count": 20,
   "metadata": {},
   "outputs": [],
   "source": [
    "g_0 = 1"
   ]
  },
  {
   "cell_type": "code",
   "execution_count": 22,
   "metadata": {},
   "outputs": [],
   "source": [
    "def simulate_ar2(phi1, phi2, n_simulations=1000, n=100):\n",
    "    ar = np.array([1, -phi1, -phi2])\n",
    "    ma = np.array([1])\n",
    "    AR2_process = ArmaProcess(ar, ma)\n",
    "    \n",
    "    results = pd.DataFrame(columns=['phi_1_est', 'phi_2_est'])\n",
    "\n",
    "    for _ in range(n_simulations):\n",
    "        simulated_data = AR2_process.generate_sample(nsample=n)\n",
    "        \n",
    "        g_1_est = pd.Series(simulated_data).autocorr(lag=1)\n",
    "        g_2_est = pd.Series(simulated_data).autocorr(lag=2)\n",
    "        \n",
    "        phi_1_est, phi_2_est = yule_walker_estimation(g_0, g_1_est, g_2_est)\n",
    "        \n",
    "        results = results.append({'phi_1_est': phi_1_est, 'phi_2_est': phi_2_est}, ignore_index=True)\n",
    "    \n",
    "    return results"
   ]
  },
  {
   "cell_type": "code",
   "execution_count": 21,
   "metadata": {},
   "outputs": [
    {
     "data": {
      "text/plain": [
       "phi_1_est    0.479447\n",
       "phi_2_est    0.170337\n",
       "dtype: float64"
      ]
     },
     "execution_count": 21,
     "metadata": {},
     "output_type": "execute_result"
    }
   ],
   "source": [
    "phi1_true = 0.5\n",
    "phi2_true = 0.2\n",
    "\n",
    "simulation_results = simulate_ar2(phi1_true, phi2_true)\n",
    "\n",
    "mean_estimates = simulation_results.mean()\n",
    "mean_estimates\n"
   ]
  }
 ],
 "metadata": {
  "kernelspec": {
   "display_name": "base",
   "language": "python",
   "name": "python3"
  },
  "language_info": {
   "codemirror_mode": {
    "name": "ipython",
    "version": 3
   },
   "file_extension": ".py",
   "mimetype": "text/x-python",
   "name": "python",
   "nbconvert_exporter": "python",
   "pygments_lexer": "ipython3",
   "version": "3.9.7"
  }
 },
 "nbformat": 4,
 "nbformat_minor": 2
}
